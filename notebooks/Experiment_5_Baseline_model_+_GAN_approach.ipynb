{
  "cells": [
    {
      "cell_type": "markdown",
      "metadata": {
        "id": "1drGkmlqNsgI"
      },
      "source": [
        "**Baseline model + GAN (Generative adversarial network)**"
      ]
    },
    {
      "cell_type": "code",
      "execution_count": null,
      "metadata": {
        "colab": {
          "base_uri": "https://localhost:8080/"
        },
        "id": "n2WhVNpYi5gg",
        "outputId": "e1b0bf73-5039-4585-9de5-4eea77fb0c55"
      },
      "outputs": [
        {
          "name": "stdout",
          "output_type": "stream",
          "text": [
            "Drive already mounted at /content/drive/; to attempt to forcibly remount, call drive.mount(\"/content/drive/\", force_remount=True).\n"
          ]
        }
      ],
      "source": [
        "#from google.colab import drive\n",
        "#import os\n",
        "#drive.mount('/content/drive/')\n",
        "#os.chdir('/content/drive/My Drive/Data/')"
      ]
    },
    {
      "cell_type": "code",
      "execution_count": null,
      "metadata": {
        "id": "D9WXD6D_hiS2"
      },
      "outputs": [],
      "source": [
        "import numpy as np\n",
        "from numpy import expand_dims\n",
        "from numpy import zeros\n",
        "from numpy import ones\n",
        "from numpy import vstack\n",
        "from numpy.random import randn\n",
        "from numpy.random import randint\n",
        "from keras.models import load_model\n",
        "from keras.optimizers import Adam\n",
        "from keras.models import Sequential\n",
        "from keras.layers import Dense\n",
        "from keras.layers import Reshape\n",
        "from keras.layers import Flatten\n",
        "from keras.layers import Conv2D\n",
        "from keras.layers import Conv2DTranspose\n",
        "from keras.layers import LeakyReLU\n",
        "from keras.layers import Dropout\n",
        "from keras.layers import BatchNormalization\n",
        "from keras.initializers import RandomNormal\n",
        "from matplotlib import pyplot\n",
        "import argparse\n",
        "import os, os.path\n",
        "import progressbar\n",
        "from PIL import Image\n",
        "import time\n"
      ]
    },
    {
      "cell_type": "markdown",
      "metadata": {
        "id": "C5adJNqxOlcR"
      },
      "source": [
        "*Apply Generative adversarial network to create more images*"
      ]
    },
    {
      "cell_type": "code",
      "execution_count": null,
      "metadata": {
        "id": "5m6qY1vIhoi3"
      },
      "outputs": [],
      "source": [
        "initialWeights = RandomNormal(mean=0.0, stddev=0.02, seed=None)"
      ]
    },
    {
      "cell_type": "code",
      "execution_count": null,
      "metadata": {
        "id": "undnd5nd5W3P"
      },
      "outputs": [],
      "source": [
        "def define_discriminator(in_shape=(128,128,1)):\n",
        "\tmodel = Sequential()\n",
        "\tmodel.add(Conv2D(64, (3,3), strides=(2, 2), padding='same', input_shape=in_shape, kernel_initializer=initialWeights))\n",
        "\tmodel.add(LeakyReLU(alpha=0.2))\n",
        "\tmodel.add(Conv2D(64, (3,3), strides=(2, 2), padding='same', kernel_initializer=initialWeights))\n",
        "\tmodel.add(BatchNormalization())\n",
        "\tmodel.add(Conv2D(64, (3,3), strides=(2, 2), padding='same', kernel_initializer=initialWeights))\n",
        "\tmodel.add(BatchNormalization())\n",
        "\tmodel.add(Conv2D(64, (3,3), strides=(2, 2), padding='same', kernel_initializer=initialWeights))\n",
        "\tmodel.add(BatchNormalization())\n",
        "\tmodel.add(Conv2D(64, (3,3), strides=(2, 2), padding='same', kernel_initializer=initialWeights))\n",
        "\tmodel.add(BatchNormalization())\n",
        "\tmodel.add(Flatten())\n",
        "\tmodel.add(Dense(1, activation='sigmoid'))\n",
        "\t# compile model\n",
        "\topt = Adam(lr=0.0002, beta_1=0.5)\n",
        "\tmodel.compile(loss='binary_crossentropy', optimizer=opt, metrics=['accuracy'])\n",
        "\treturn model"
      ]
    },
    {
      "cell_type": "code",
      "execution_count": null,
      "metadata": {
        "id": "Q7xhvRc25bNB"
      },
      "outputs": [],
      "source": [
        "def define_generator(latent_dim):\n",
        "\tmodel = Sequential()\n",
        "\tn_nodes = 256 * 4 * 4\n",
        "\tmodel.add(Dense(n_nodes, input_dim=latent_dim))\n",
        "\tmodel.add(Reshape((4, 4, 256)))\n",
        "\tmodel.add(Conv2DTranspose(128, (4,4), strides=(2,2), padding='same', activation='relu', kernel_initializer=initialWeights))\n",
        "\tmodel.add(Conv2DTranspose(128, (4,4), strides=(2,2), padding='same', activation='relu', kernel_initializer=initialWeights))\n",
        "\tmodel.add(Conv2DTranspose(128, (4,4), strides=(2,2), padding='same', activation='relu', kernel_initializer=initialWeights))\n",
        "\tmodel.add(Conv2DTranspose(128, (4,4), strides=(2,2), padding='same', activation='relu', kernel_initializer=initialWeights))\n",
        "\tmodel.add(Conv2DTranspose(128, (4,4), strides=(2,2), padding='same', activation='relu', kernel_initializer=initialWeights))\n",
        "\tmodel.add(Conv2D(1, (3,3), activation='tanh', padding='same'))\n",
        "\treturn model"
      ]
    },
    {
      "cell_type": "code",
      "execution_count": null,
      "metadata": {
        "id": "HEam1c-V5e6v"
      },
      "outputs": [],
      "source": [
        "def define_gan(g_model, d_model):\n",
        " d_model.trainable = False\n",
        " model = Sequential()\n",
        " model.add(g_model)\n",
        " model.add(d_model)\n",
        " opt = Adam(lr=0.0002, beta_1=0.5)\n",
        " model.compile(loss='binary_crossentropy', optimizer=opt)\n",
        " return model"
      ]
    },
    {
      "cell_type": "code",
      "execution_count": null,
      "metadata": {
        "colab": {
          "base_uri": "https://localhost:8080/"
        },
        "id": "tpc75n15Novd",
        "outputId": "c43302a0-a6dd-4557-fb51-09ab0d7408b0"
      },
      "outputs": [
        {
          "name": "stderr",
          "output_type": "stream",
          "text": [
            "100%|██████████| 716/716 [00:01<00:00, 495.21it/s]\n"
          ]
        }
      ],
      "source": [
        "from tqdm import tqdm\n",
        "import cv2\n",
        "labels = ['Mild_Demented']\n",
        "\n",
        "X_train = [] #Training Dataset\n",
        "image_size=128\n",
        "\n",
        "for i in labels:\n",
        "    folderPath = os.path.join('/content/drive/My Drive/Data/Research/Process_1', 'train', i)\n",
        "    for j in tqdm(os.listdir(folderPath)):\n",
        "        image = cv2.imread(os.path.join(folderPath, j),cv2.IMREAD_UNCHANGED)\n",
        "        image = cv2.resize(image, (image_size, image_size))\n",
        "        X_train.append(image)\n",
        "\n",
        "Xtrain = np.array(X_train)\n"
      ]
    },
    {
      "cell_type": "code",
      "execution_count": null,
      "metadata": {
        "colab": {
          "base_uri": "https://localhost:8080/"
        },
        "id": "oC_7KXuNOgVy",
        "outputId": "16b0ea13-7485-4845-f337-93be54e88ecd"
      },
      "outputs": [
        {
          "data": {
            "text/plain": [
              "(716, 128, 128)"
            ]
          },
          "execution_count": 213,
          "metadata": {},
          "output_type": "execute_result"
        }
      ],
      "source": [
        "Xtrain.shape"
      ]
    },
    {
      "cell_type": "markdown",
      "metadata": {
        "id": "uTA-pJA5SQZE"
      },
      "source": [
        "*Original Image*"
      ]
    },
    {
      "cell_type": "code",
      "execution_count": null,
      "metadata": {
        "colab": {
          "base_uri": "https://localhost:8080/",
          "height": 406
        },
        "id": "kKhJNPRXZqQc",
        "outputId": "aa635c59-c952-4a00-a7c8-2dc312580d74"
      },
      "outputs": [
        {
          "data": {
            "image/png": "[encoded data removed]",
            "text/plain": [
              "<Figure size 640x480 with 49 Axes>"
            ]
          },
          "metadata": {},
          "output_type": "display_data"
        }
      ],
      "source": [
        "\n",
        "from matplotlib import pyplot\n",
        "\n",
        "\n",
        "for i in range(49):\n",
        " pyplot.subplot(7, 7, 1 + i)\n",
        " pyplot.axis('off')\n",
        " pyplot.imshow(Xtrain[i])\n",
        "pyplot.show()"
      ]
    },
    {
      "cell_type": "code",
      "execution_count": null,
      "metadata": {
        "id": "hr3oRox8GYTB"
      },
      "outputs": [],
      "source": [
        "\n",
        "def load_real_samples():\n",
        "\n",
        " X = expand_dims(Xtrain, axis=-1)\n",
        " X = X.astype('float32')\n",
        " X = X / 255.0\n",
        " return X"
      ]
    },
    {
      "cell_type": "code",
      "execution_count": null,
      "metadata": {
        "colab": {
          "base_uri": "https://localhost:8080/"
        },
        "id": "l-IOTuuTGoXQ",
        "outputId": "64b84b24-bd44-4ade-e957-c667d63b432c"
      },
      "outputs": [
        {
          "data": {
            "text/plain": [
              "(716, 128, 128, 1)"
            ]
          },
          "execution_count": 204,
          "metadata": {},
          "output_type": "execute_result"
        }
      ],
      "source": [
        "X.shape"
      ]
    },
    {
      "cell_type": "code",
      "execution_count": null,
      "metadata": {
        "id": "j0EEP8Qt51zR"
      },
      "outputs": [],
      "source": [
        "\n",
        "def generate_real_samples(dataset, n_samples):\n",
        "\n",
        " ix = randint(0, dataset.shape[0], n_samples)\n",
        " X = dataset[ix]\n",
        " y = ones((n_samples, 1))\n",
        " return X, y"
      ]
    },
    {
      "cell_type": "code",
      "execution_count": null,
      "metadata": {
        "id": "wmW3rk2f54ML"
      },
      "outputs": [],
      "source": [
        "def generate_latent_points(latent_dim, n_samples):\n",
        " x_input = randn(latent_dim * n_samples)\n",
        " x_input = x_input.reshape(n_samples, latent_dim)\n",
        " return x_input"
      ]
    },
    {
      "cell_type": "code",
      "execution_count": null,
      "metadata": {
        "id": "MQyadJxF56cM"
      },
      "outputs": [],
      "source": [
        "def generate_fake_samples(g_model, latent_dim, n_samples):\n",
        " x_input = generate_latent_points(latent_dim, n_samples)\n",
        " X = g_model.predict(x_input)\n",
        " y = zeros((n_samples, 1))\n",
        " return X, y\n"
      ]
    },
    {
      "cell_type": "code",
      "execution_count": null,
      "metadata": {
        "id": "_hl7tu0t58_a"
      },
      "outputs": [],
      "source": [
        "def save_plot(examples, epoch, n=10):\n",
        " for i in range(n * n):\n",
        "   pyplot.subplot(n, n, 1 + i)\n",
        "   pyplot.axis('off')\n",
        "   pyplot.imshow(examples[i, :, :, 0], cmap='gray')\n",
        "   filename = 'Gray_generated_plot_e%03d.png' % (epoch+1)\n",
        "   pyplot.savefig('/content/drive/My Drive/Data/Research/Process_2/output/' + filename)\n",
        "   pyplot.close()"
      ]
    },
    {
      "cell_type": "code",
      "execution_count": null,
      "metadata": {
        "id": "RnjnqBPH6HhE"
      },
      "outputs": [],
      "source": [
        "def summarize_performance(epoch, g_model, d_model, dataset, latent_dim, n_samples=500):\n",
        " X_real, y_real = generate_real_samples(dataset, n_samples)\n",
        " _, acc_real = d_model.evaluate(X_real, y_real, verbose=0)\n",
        " x_fake, y_fake = generate_fake_samples(g_model, latent_dim, n_samples)\n",
        " _, acc_fake = d_model.evaluate(x_fake, y_fake, verbose=0)\n",
        " print('>Accuracy real: %.0f%%, fake: %.0f%%' % (acc_real*100, acc_fake*100))\n",
        " save_plot(x_fake, epoch)\n",
        " filename = 'Gray_generator_model_%03d.h5' % (epoch + 1)\n",
        " g_model.save('/content/drive/My Drive/Data/Research/Process_2/output/' + filename)"
      ]
    },
    {
      "cell_type": "code",
      "execution_count": null,
      "metadata": {
        "id": "9DwIJDtf6KiE"
      },
      "outputs": [],
      "source": [
        "def train(g_model, d_model, gan_model, dataset, latent_dim, n_epochs=500, n_batch=256):\n",
        " bat_per_epo = int(dataset.shape[0] / n_batch)\n",
        " half_batch = int(n_batch / 2)\n",
        " for i in range(n_epochs):\n",
        "   for j in range(bat_per_epo):\n",
        "     X_real, y_real = generate_real_samples(dataset, half_batch)\n",
        "     X_fake, y_fake = generate_fake_samples(g_model, latent_dim, half_batch)\n",
        "     X, y = vstack((X_real, X_fake)), vstack((y_real, y_fake))\n",
        "     d_loss, _ = d_model.train_on_batch(X, y)\n",
        "     X_gan = generate_latent_points(latent_dim, n_batch)\n",
        "     y_gan = ones((n_batch, 1))\n",
        "     g_loss = gan_model.train_on_batch(X_gan, y_gan)\n",
        "     print('>%d, %d/%d, d=%.3f, g=%.3f' % (i+1, j+1, bat_per_epo, d_loss, g_loss))\n",
        "     if (i+1) % 10 == 0:\n",
        "      summarize_performance(i, g_model, d_model, dataset, latent_dim)\n"
      ]
    },
    {
      "cell_type": "code",
      "execution_count": null,
      "metadata": {
        "colab": {
          "base_uri": "https://localhost:8080/"
        },
        "id": "65ooJVfH6dJD",
        "outputId": "15081dba-717a-4d49-e20e-d40f390a1e19"
      },
      "outputs": [
        {
          "name": "stdout",
          "output_type": "stream",
          "text": [
            "4/4 [==============================] - 0s 62ms/step\n",
            ">1, 1/2, d=1.622, g=0.692\n",
            "4/4 [==============================] - 0s 42ms/step\n",
            ">1, 2/2, d=0.235, g=0.693\n",
            "4/4 [==============================] - 0s 42ms/step\n",
            ">2, 1/2, d=0.096, g=0.694\n",
            "4/4 [==============================] - 0s 41ms/step\n",
            ">2, 2/2, d=0.048, g=0.696\n",
            "4/4 [==============================] - 0s 41ms/step\n",
            ">3, 1/2, d=0.031, g=0.698\n",
            "4/4 [==============================] - 0s 41ms/step\n",
            ">3, 2/2, d=0.023, g=0.700\n",
            "4/4 [==============================] - 0s 42ms/step\n",
            ">4, 1/2, d=0.017, g=0.702\n",
            "4/4 [==============================] - 0s 42ms/step\n",
            ">4, 2/2, d=0.015, g=0.704\n",
            "4/4 [==============================] - 0s 41ms/step\n",
            ">5, 1/2, d=0.013, g=0.706\n",
            "4/4 [==============================] - 0s 42ms/step\n",
            ">5, 2/2, d=0.011, g=0.708\n",
            "4/4 [==============================] - 0s 42ms/step\n",
            ">6, 1/2, d=0.011, g=0.710\n",
            "4/4 [==============================] - 0s 42ms/step\n",
            ">6, 2/2, d=0.011, g=0.712\n",
            "4/4 [==============================] - 0s 42ms/step\n",
            ">7, 1/2, d=0.011, g=0.715\n",
            "4/4 [==============================] - 0s 42ms/step\n",
            ">7, 2/2, d=0.011, g=0.717\n",
            "4/4 [==============================] - 0s 42ms/step\n",
            ">8, 1/2, d=0.013, g=0.719\n",
            "4/4 [==============================] - 0s 43ms/step\n",
            ">8, 2/2, d=0.018, g=0.721\n",
            "4/4 [==============================] - 0s 42ms/step\n",
            ">9, 1/2, d=0.046, g=0.723\n",
            "4/4 [==============================] - 0s 42ms/step\n",
            ">9, 2/2, d=0.158, g=0.726\n",
            "4/4 [==============================] - 0s 43ms/step\n",
            ">10, 1/2, d=0.302, g=0.731\n",
            "16/16 [==============================] - 1s 45ms/step\n",
            ">Accuracy real: 0%, fake: 100%\n"
          ]
        },
        {
          "name": "stderr",
          "output_type": "stream",
          "text": [
            "WARNING:tensorflow:Compiled the loaded model, but the compiled metrics have yet to be built. `model.compile_metrics` will be empty until you train or evaluate the model.\n"
          ]
        },
        {
          "name": "stdout",
          "output_type": "stream",
          "text": [
            "4/4 [==============================] - 0s 62ms/step\n",
            ">10, 2/2, d=0.063, g=0.737\n",
            "16/16 [==============================] - 1s 44ms/step\n",
            ">Accuracy real: 0%, fake: 100%\n"
          ]
        },
        {
          "name": "stderr",
          "output_type": "stream",
          "text": [
            "WARNING:tensorflow:Compiled the loaded model, but the compiled metrics have yet to be built. `model.compile_metrics` will be empty until you train or evaluate the model.\n"
          ]
        },
        {
          "name": "stdout",
          "output_type": "stream",
          "text": [
            "4/4 [==============================] - 0s 61ms/step\n",
            ">11, 1/2, d=0.013, g=0.742\n",
            "4/4 [==============================] - 0s 41ms/step\n",
            ">11, 2/2, d=0.004, g=0.745\n",
            "4/4 [==============================] - 0s 42ms/step\n",
            ">12, 1/2, d=0.003, g=0.746\n",
            "4/4 [==============================] - 0s 42ms/step\n",
            ">12, 2/2, d=0.002, g=0.748\n",
            "4/4 [==============================] - 0s 41ms/step\n",
            ">13, 1/2, d=0.002, g=0.749\n",
            "4/4 [==============================] - 0s 41ms/step\n",
            ">13, 2/2, d=0.002, g=0.749\n",
            "4/4 [==============================] - 0s 41ms/step\n",
            ">14, 1/2, d=0.002, g=0.749\n",
            "4/4 [==============================] - 0s 41ms/step\n",
            ">14, 2/2, d=0.002, g=0.749\n",
            "4/4 [==============================] - 0s 42ms/step\n",
            ">15, 1/2, d=0.009, g=0.749\n",
            "4/4 [==============================] - 0s 42ms/step\n",
            ">15, 2/2, d=0.134, g=0.753\n",
            "4/4 [==============================] - 0s 42ms/step\n",
            ">16, 1/2, d=0.065, g=0.755\n",
            "4/4 [==============================] - 0s 42ms/step\n",
            ">16, 2/2, d=0.029, g=0.756\n",
            "4/4 [==============================] - 0s 41ms/step\n",
            ">17, 1/2, d=0.032, g=0.756\n",
            "4/4 [==============================] - 0s 42ms/step\n",
            ">17, 2/2, d=0.039, g=0.758\n",
            "4/4 [==============================] - 0s 42ms/step\n",
            ">18, 1/2, d=0.040, g=0.760\n",
            "4/4 [==============================] - 0s 42ms/step\n",
            ">18, 2/2, d=0.033, g=0.763\n",
            "4/4 [==============================] - 0s 42ms/step\n",
            ">19, 1/2, d=0.023, g=0.767\n",
            "4/4 [==============================] - 0s 42ms/step\n",
            ">19, 2/2, d=0.018, g=0.771\n",
            "4/4 [==============================] - 0s 42ms/step\n",
            ">20, 1/2, d=0.015, g=0.776\n",
            "16/16 [==============================] - 1s 44ms/step\n",
            ">Accuracy real: 0%, fake: 100%\n"
          ]
        },
        {
          "name": "stderr",
          "output_type": "stream",
          "text": [
            "WARNING:tensorflow:Compiled the loaded model, but the compiled metrics have yet to be built. `model.compile_metrics` will be empty until you train or evaluate the model.\n"
          ]
        },
        {
          "name": "stdout",
          "output_type": "stream",
          "text": [
            "4/4 [==============================] - 0s 62ms/step\n",
            ">20, 2/2, d=0.016, g=0.780\n",
            "16/16 [==============================] - 1s 43ms/step\n",
            ">Accuracy real: 0%, fake: 100%\n"
          ]
        },
        {
          "name": "stderr",
          "output_type": "stream",
          "text": [
            "WARNING:tensorflow:Compiled the loaded model, but the compiled metrics have yet to be built. `model.compile_metrics` will be empty until you train or evaluate the model.\n"
          ]
        },
        {
          "name": "stdout",
          "output_type": "stream",
          "text": [
            "4/4 [==============================] - 0s 62ms/step\n",
            ">21, 1/2, d=0.023, g=0.784\n",
            "4/4 [==============================] - 0s 41ms/step\n",
            ">21, 2/2, d=0.034, g=0.789\n",
            "4/4 [==============================] - 0s 41ms/step\n",
            ">22, 1/2, d=0.044, g=0.793\n",
            "4/4 [==============================] - 0s 41ms/step\n",
            ">22, 2/2, d=0.033, g=0.798\n",
            "4/4 [==============================] - 0s 41ms/step\n",
            ">23, 1/2, d=0.017, g=0.801\n",
            "4/4 [==============================] - 0s 41ms/step\n",
            ">23, 2/2, d=0.007, g=0.804\n",
            "4/4 [==============================] - 0s 42ms/step\n",
            ">24, 1/2, d=0.006, g=0.805\n",
            "4/4 [==============================] - 0s 41ms/step\n",
            ">24, 2/2, d=0.014, g=0.807\n",
            "4/4 [==============================] - 0s 42ms/step\n",
            ">25, 1/2, d=0.008, g=0.811\n",
            "4/4 [==============================] - 0s 41ms/step\n",
            ">25, 2/2, d=0.002, g=0.815\n",
            "4/4 [==============================] - 0s 42ms/step\n",
            ">26, 1/2, d=0.001, g=0.818\n",
            "4/4 [==============================] - 0s 42ms/step\n",
            ">26, 2/2, d=0.002, g=0.820\n",
            "4/4 [==============================] - 0s 42ms/step\n",
            ">27, 1/2, d=0.007, g=0.822\n",
            "4/4 [==============================] - 0s 42ms/step\n",
            ">27, 2/2, d=0.035, g=0.831\n",
            "4/4 [==============================] - 0s 41ms/step\n",
            ">28, 1/2, d=0.008, g=0.839\n",
            "4/4 [==============================] - 0s 42ms/step\n",
            ">28, 2/2, d=0.003, g=0.845\n",
            "4/4 [==============================] - 0s 42ms/step\n",
            ">29, 1/2, d=0.002, g=0.850\n",
            "4/4 [==============================] - 0s 42ms/step\n",
            ">29, 2/2, d=0.001, g=0.854\n",
            "4/4 [==============================] - 0s 42ms/step\n",
            ">30, 1/2, d=0.001, g=0.858\n",
            "16/16 [==============================] - 1s 44ms/step\n",
            ">Accuracy real: 0%, fake: 100%\n"
          ]
        },
        {
          "name": "stderr",
          "output_type": "stream",
          "text": [
            "WARNING:tensorflow:Compiled the loaded model, but the compiled metrics have yet to be built. `model.compile_metrics` will be empty until you train or evaluate the model.\n"
          ]
        },
        {
          "name": "stdout",
          "output_type": "stream",
          "text": [
            "4/4 [==============================] - 0s 62ms/step\n",
            ">30, 2/2, d=0.001, g=0.862\n",
            "16/16 [==============================] - 1s 44ms/step\n",
            ">Accuracy real: 0%, fake: 100%\n"
          ]
        },
        {
          "name": "stderr",
          "output_type": "stream",
          "text": [
            "WARNING:tensorflow:Compiled the loaded model, but the compiled metrics have yet to be built. `model.compile_metrics` will be empty until you train or evaluate the model.\n"
          ]
        },
        {
          "name": "stdout",
          "output_type": "stream",
          "text": [
            "4/4 [==============================] - 0s 62ms/step\n",
            ">31, 1/2, d=0.001, g=0.865\n",
            "4/4 [==============================] - 0s 41ms/step\n",
            ">31, 2/2, d=0.001, g=0.869\n",
            "4/4 [==============================] - 0s 41ms/step\n",
            ">32, 1/2, d=0.001, g=0.872\n",
            "4/4 [==============================] - 0s 41ms/step\n",
            ">32, 2/2, d=0.001, g=0.876\n",
            "4/4 [==============================] - 0s 41ms/step\n",
            ">33, 1/2, d=0.001, g=0.880\n",
            "4/4 [==============================] - 0s 41ms/step\n",
            ">33, 2/2, d=0.001, g=0.885\n",
            "4/4 [==============================] - 0s 41ms/step\n",
            ">34, 1/2, d=0.002, g=0.890\n",
            "4/4 [==============================] - 0s 42ms/step\n",
            ">34, 2/2, d=0.001, g=0.896\n",
            "4/4 [==============================] - 0s 42ms/step\n",
            ">35, 1/2, d=0.003, g=0.902\n",
            "4/4 [==============================] - 0s 42ms/step\n",
            ">35, 2/2, d=0.002, g=0.908\n",
            "4/4 [==============================] - 0s 41ms/step\n",
            ">36, 1/2, d=0.002, g=0.914\n",
            "4/4 [==============================] - 0s 42ms/step\n",
            ">36, 2/2, d=0.002, g=0.921\n",
            "4/4 [==============================] - 0s 42ms/step\n",
            ">37, 1/2, d=0.001, g=0.928\n",
            "4/4 [==============================] - 0s 42ms/step\n",
            ">37, 2/2, d=0.002, g=0.937\n",
            "4/4 [==============================] - 0s 42ms/step\n",
            ">38, 1/2, d=0.002, g=0.942\n",
            "4/4 [==============================] - 0s 42ms/step\n",
            ">38, 2/2, d=0.002, g=0.948\n",
            "4/4 [==============================] - 0s 42ms/step\n",
            ">39, 1/2, d=0.002, g=0.956\n",
            "4/4 [==============================] - 0s 42ms/step\n",
            ">39, 2/2, d=0.002, g=0.963\n",
            "4/4 [==============================] - 0s 42ms/step\n",
            ">40, 1/2, d=0.002, g=0.971\n",
            "16/16 [==============================] - 1s 44ms/step\n",
            ">Accuracy real: 0%, fake: 100%\n"
          ]
        },
        {
          "name": "stderr",
          "output_type": "stream",
          "text": [
            "WARNING:tensorflow:Compiled the loaded model, but the compiled metrics have yet to be built. `model.compile_metrics` will be empty until you train or evaluate the model.\n"
          ]
        },
        {
          "name": "stdout",
          "output_type": "stream",
          "text": [
            "4/4 [==============================] - 0s 62ms/step\n",
            ">40, 2/2, d=0.002, g=0.979\n",
            "16/16 [==============================] - 1s 43ms/step\n",
            ">Accuracy real: 0%, fake: 100%\n"
          ]
        },
        {
          "name": "stderr",
          "output_type": "stream",
          "text": [
            "WARNING:tensorflow:Compiled the loaded model, but the compiled metrics have yet to be built. `model.compile_metrics` will be empty until you train or evaluate the model.\n"
          ]
        },
        {
          "name": "stdout",
          "output_type": "stream",
          "text": [
            "4/4 [==============================] - 0s 57ms/step\n",
            ">41, 1/2, d=0.002, g=0.987\n",
            "4/4 [==============================] - 0s 41ms/step\n",
            ">41, 2/2, d=0.001, g=0.997\n",
            "4/4 [==============================] - 0s 41ms/step\n",
            ">42, 1/2, d=0.002, g=1.005\n",
            "4/4 [==============================] - 0s 41ms/step\n",
            ">42, 2/2, d=0.002, g=1.012\n",
            "4/4 [==============================] - 0s 42ms/step\n",
            ">43, 1/2, d=0.001, g=1.020\n",
            "4/4 [==============================] - 0s 41ms/step\n",
            ">43, 2/2, d=0.002, g=1.029\n",
            "4/4 [==============================] - 0s 41ms/step\n",
            ">44, 1/2, d=0.002, g=1.039\n",
            "4/4 [==============================] - 0s 42ms/step\n",
            ">44, 2/2, d=0.003, g=1.050\n",
            "4/4 [==============================] - 0s 41ms/step\n",
            ">45, 1/2, d=0.002, g=1.061\n",
            "4/4 [==============================] - 0s 41ms/step\n",
            ">45, 2/2, d=0.003, g=1.072\n",
            "4/4 [==============================] - 0s 42ms/step\n",
            ">46, 1/2, d=0.002, g=1.083\n",
            "4/4 [==============================] - 0s 42ms/step\n",
            ">46, 2/2, d=0.002, g=1.094\n",
            "4/4 [==============================] - 0s 42ms/step\n",
            ">47, 1/2, d=0.001, g=1.107\n",
            "4/4 [==============================] - 0s 42ms/step\n",
            ">47, 2/2, d=0.000, g=1.131\n",
            "4/4 [==============================] - 0s 42ms/step\n",
            ">48, 1/2, d=0.001, g=1.128\n",
            "4/4 [==============================] - 0s 42ms/step\n",
            ">48, 2/2, d=0.000, g=1.133\n",
            "4/4 [==============================] - 0s 42ms/step\n",
            ">49, 1/2, d=0.001, g=1.138\n",
            "4/4 [==============================] - 0s 41ms/step\n",
            ">49, 2/2, d=0.001, g=1.146\n",
            "4/4 [==============================] - 0s 42ms/step\n",
            ">50, 1/2, d=0.001, g=1.159\n",
            "16/16 [==============================] - 1s 44ms/step\n",
            ">Accuracy real: 0%, fake: 100%\n"
          ]
        },
        {
          "name": "stderr",
          "output_type": "stream",
          "text": [
            "WARNING:tensorflow:Compiled the loaded model, but the compiled metrics have yet to be built. `model.compile_metrics` will be empty until you train or evaluate the model.\n"
          ]
        },
        {
          "name": "stdout",
          "output_type": "stream",
          "text": [
            "4/4 [==============================] - 0s 57ms/step\n",
            ">50, 2/2, d=0.001, g=1.166\n",
            "16/16 [==============================] - 1s 43ms/step\n",
            ">Accuracy real: 0%, fake: 100%\n"
          ]
        },
        {
          "name": "stderr",
          "output_type": "stream",
          "text": [
            "WARNING:tensorflow:Compiled the loaded model, but the compiled metrics have yet to be built. `model.compile_metrics` will be empty until you train or evaluate the model.\n"
          ]
        },
        {
          "name": "stdout",
          "output_type": "stream",
          "text": [
            "4/4 [==============================] - 0s 59ms/step\n",
            ">51, 1/2, d=0.002, g=1.174\n",
            "4/4 [==============================] - 0s 42ms/step\n",
            ">51, 2/2, d=0.002, g=1.183\n",
            "4/4 [==============================] - 0s 42ms/step\n",
            ">52, 1/2, d=0.002, g=1.195\n",
            "4/4 [==============================] - 0s 41ms/step\n",
            ">52, 2/2, d=0.001, g=1.211\n",
            "4/4 [==============================] - 0s 42ms/step\n",
            ">53, 1/2, d=0.000, g=1.233\n",
            "4/4 [==============================] - 0s 41ms/step\n",
            ">53, 2/2, d=0.000, g=1.226\n",
            "4/4 [==============================] - 0s 41ms/step\n",
            ">54, 1/2, d=0.000, g=1.235\n",
            "4/4 [==============================] - 0s 41ms/step\n",
            ">54, 2/2, d=0.001, g=1.240\n",
            "4/4 [==============================] - 0s 42ms/step\n",
            ">55, 1/2, d=0.001, g=1.247\n",
            "4/4 [==============================] - 0s 42ms/step\n",
            ">55, 2/2, d=0.002, g=1.257\n",
            "4/4 [==============================] - 0s 42ms/step\n",
            ">56, 1/2, d=0.001, g=1.270\n",
            "4/4 [==============================] - 0s 42ms/step\n",
            ">56, 2/2, d=0.001, g=1.283\n",
            "4/4 [==============================] - 0s 42ms/step\n",
            ">57, 1/2, d=0.000, g=1.300\n",
            "4/4 [==============================] - 0s 42ms/step\n",
            ">57, 2/2, d=0.001, g=1.299\n",
            "4/4 [==============================] - 0s 42ms/step\n",
            ">58, 1/2, d=0.001, g=1.306\n",
            "4/4 [==============================] - 0s 42ms/step\n",
            ">58, 2/2, d=0.000, g=1.323\n",
            "4/4 [==============================] - 0s 42ms/step\n",
            ">59, 1/2, d=0.001, g=1.333\n",
            "4/4 [==============================] - 0s 42ms/step\n",
            ">59, 2/2, d=0.000, g=1.341\n",
            "4/4 [==============================] - 0s 42ms/step\n",
            ">60, 1/2, d=0.001, g=1.342\n",
            "16/16 [==============================] - 1s 44ms/step\n",
            ">Accuracy real: 0%, fake: 100%\n"
          ]
        },
        {
          "name": "stderr",
          "output_type": "stream",
          "text": [
            "WARNING:tensorflow:Compiled the loaded model, but the compiled metrics have yet to be built. `model.compile_metrics` will be empty until you train or evaluate the model.\n"
          ]
        },
        {
          "name": "stdout",
          "output_type": "stream",
          "text": [
            "4/4 [==============================] - 0s 62ms/step\n",
            ">60, 2/2, d=0.002, g=1.353\n",
            "16/16 [==============================] - 1s 43ms/step\n",
            ">Accuracy real: 0%, fake: 100%\n"
          ]
        },
        {
          "name": "stderr",
          "output_type": "stream",
          "text": [
            "WARNING:tensorflow:Compiled the loaded model, but the compiled metrics have yet to be built. `model.compile_metrics` will be empty until you train or evaluate the model.\n"
          ]
        },
        {
          "name": "stdout",
          "output_type": "stream",
          "text": [
            "4/4 [==============================] - 0s 62ms/step\n",
            ">61, 1/2, d=0.001, g=1.364\n",
            "4/4 [==============================] - 0s 41ms/step\n",
            ">61, 2/2, d=0.002, g=1.374\n",
            "4/4 [==============================] - 0s 41ms/step\n",
            ">62, 1/2, d=0.001, g=1.390\n",
            "4/4 [==============================] - 0s 41ms/step\n",
            ">62, 2/2, d=0.000, g=1.426\n",
            "4/4 [==============================] - 0s 41ms/step\n",
            ">63, 1/2, d=0.000, g=1.417\n",
            "4/4 [==============================] - 0s 41ms/step\n",
            ">63, 2/2, d=0.001, g=1.415\n",
            "4/4 [==============================] - 0s 41ms/step\n",
            ">64, 1/2, d=0.001, g=1.424\n",
            "4/4 [==============================] - 0s 42ms/step\n",
            ">64, 2/2, d=0.001, g=1.434\n",
            "4/4 [==============================] - 0s 41ms/step\n",
            ">65, 1/2, d=0.001, g=1.449\n",
            "4/4 [==============================] - 0s 41ms/step\n",
            ">65, 2/2, d=0.000, g=1.471\n",
            "4/4 [==============================] - 0s 41ms/step\n",
            ">66, 1/2, d=0.000, g=1.486\n",
            "4/4 [==============================] - 0s 42ms/step\n",
            ">66, 2/2, d=0.000, g=1.488\n",
            "4/4 [==============================] - 0s 42ms/step\n",
            ">67, 1/2, d=0.001, g=1.494\n",
            "4/4 [==============================] - 0s 42ms/step\n",
            ">67, 2/2, d=0.001, g=1.500\n",
            "4/4 [==============================] - 0s 42ms/step\n",
            ">68, 1/2, d=0.001, g=1.513\n",
            "4/4 [==============================] - 0s 42ms/step\n",
            ">68, 2/2, d=0.001, g=1.526\n",
            "4/4 [==============================] - 0s 42ms/step\n",
            ">69, 1/2, d=0.000, g=1.551\n",
            "4/4 [==============================] - 0s 42ms/step\n",
            ">69, 2/2, d=0.000, g=1.559\n",
            "4/4 [==============================] - 0s 42ms/step\n",
            ">70, 1/2, d=0.001, g=1.565\n",
            "16/16 [==============================] - 1s 44ms/step\n",
            ">Accuracy real: 0%, fake: 100%\n"
          ]
        },
        {
          "name": "stderr",
          "output_type": "stream",
          "text": [
            "WARNING:tensorflow:Compiled the loaded model, but the compiled metrics have yet to be built. `model.compile_metrics` will be empty until you train or evaluate the model.\n"
          ]
        },
        {
          "name": "stdout",
          "output_type": "stream",
          "text": [
            "4/4 [==============================] - 0s 56ms/step\n",
            ">70, 2/2, d=0.001, g=1.575\n",
            "16/16 [==============================] - 1s 43ms/step\n",
            ">Accuracy real: 0%, fake: 100%\n"
          ]
        },
        {
          "name": "stderr",
          "output_type": "stream",
          "text": [
            "WARNING:tensorflow:Compiled the loaded model, but the compiled metrics have yet to be built. `model.compile_metrics` will be empty until you train or evaluate the model.\n"
          ]
        },
        {
          "name": "stdout",
          "output_type": "stream",
          "text": [
            "4/4 [==============================] - 0s 62ms/step\n",
            ">71, 1/2, d=0.001, g=1.585\n",
            "4/4 [==============================] - 0s 41ms/step\n",
            ">71, 2/2, d=0.001, g=1.596\n",
            "4/4 [==============================] - 0s 41ms/step\n",
            ">72, 1/2, d=0.001, g=1.620\n",
            "4/4 [==============================] - 0s 41ms/step\n",
            ">72, 2/2, d=0.000, g=1.637\n",
            "4/4 [==============================] - 0s 41ms/step\n",
            ">73, 1/2, d=0.000, g=1.653\n",
            "4/4 [==============================] - 0s 41ms/step\n",
            ">73, 2/2, d=0.000, g=1.645\n",
            "4/4 [==============================] - 0s 41ms/step\n",
            ">74, 1/2, d=0.000, g=1.660\n",
            "4/4 [==============================] - 0s 41ms/step\n",
            ">74, 2/2, d=0.001, g=1.661\n",
            "4/4 [==============================] - 0s 42ms/step\n",
            ">75, 1/2, d=0.001, g=1.679\n",
            "4/4 [==============================] - 0s 42ms/step\n",
            ">75, 2/2, d=0.001, g=1.694\n",
            "4/4 [==============================] - 0s 42ms/step\n",
            ">76, 1/2, d=0.000, g=1.712\n",
            "4/4 [==============================] - 0s 42ms/step\n",
            ">76, 2/2, d=0.001, g=1.726\n",
            "4/4 [==============================] - 0s 42ms/step\n",
            ">77, 1/2, d=0.001, g=1.727\n",
            "4/4 [==============================] - 0s 41ms/step\n",
            ">77, 2/2, d=0.001, g=1.733\n",
            "4/4 [==============================] - 0s 42ms/step\n",
            ">78, 1/2, d=0.001, g=1.744\n",
            "4/4 [==============================] - 0s 41ms/step\n",
            ">78, 2/2, d=0.001, g=1.762\n",
            "4/4 [==============================] - 0s 42ms/step\n",
            ">79, 1/2, d=0.001, g=1.787\n",
            "4/4 [==============================] - 0s 42ms/step\n",
            ">79, 2/2, d=0.000, g=1.842\n",
            "4/4 [==============================] - 0s 42ms/step\n",
            ">80, 1/2, d=0.000, g=1.817\n",
            "16/16 [==============================] - 1s 44ms/step\n",
            ">Accuracy real: 0%, fake: 100%\n"
          ]
        },
        {
          "name": "stderr",
          "output_type": "stream",
          "text": [
            "WARNING:tensorflow:Compiled the loaded model, but the compiled metrics have yet to be built. `model.compile_metrics` will be empty until you train or evaluate the model.\n"
          ]
        },
        {
          "name": "stdout",
          "output_type": "stream",
          "text": [
            "4/4 [==============================] - 0s 62ms/step\n",
            ">80, 2/2, d=0.000, g=1.815\n",
            "16/16 [==============================] - 1s 43ms/step\n",
            ">Accuracy real: 0%, fake: 100%\n"
          ]
        },
        {
          "name": "stderr",
          "output_type": "stream",
          "text": [
            "WARNING:tensorflow:Compiled the loaded model, but the compiled metrics have yet to be built. `model.compile_metrics` will be empty until you train or evaluate the model.\n"
          ]
        },
        {
          "name": "stdout",
          "output_type": "stream",
          "text": [
            "4/4 [==============================] - 0s 57ms/step\n",
            ">81, 1/2, d=0.000, g=1.838\n",
            "4/4 [==============================] - 0s 41ms/step\n",
            ">81, 2/2, d=0.000, g=1.837\n",
            "4/4 [==============================] - 0s 41ms/step\n",
            ">82, 1/2, d=0.001, g=1.835\n",
            "4/4 [==============================] - 0s 42ms/step\n",
            ">82, 2/2, d=0.001, g=1.847\n",
            "4/4 [==============================] - 0s 41ms/step\n",
            ">83, 1/2, d=0.001, g=1.866\n",
            "4/4 [==============================] - 0s 42ms/step\n",
            ">83, 2/2, d=0.001, g=1.892\n",
            "4/4 [==============================] - 0s 42ms/step\n",
            ">84, 1/2, d=0.000, g=1.966\n",
            "4/4 [==============================] - 0s 42ms/step\n",
            ">84, 2/2, d=0.000, g=1.905\n",
            "4/4 [==============================] - 0s 41ms/step\n",
            ">85, 1/2, d=0.001, g=1.919\n",
            "4/4 [==============================] - 0s 41ms/step\n",
            ">85, 2/2, d=0.000, g=1.957\n",
            "4/4 [==============================] - 0s 42ms/step\n",
            ">86, 1/2, d=0.001, g=1.933\n",
            "4/4 [==============================] - 0s 42ms/step\n",
            ">86, 2/2, d=0.001, g=1.944\n",
            "4/4 [==============================] - 0s 42ms/step\n",
            ">87, 1/2, d=0.000, g=1.959\n",
            "4/4 [==============================] - 0s 42ms/step\n",
            ">87, 2/2, d=0.001, g=1.955\n",
            "4/4 [==============================] - 0s 42ms/step\n",
            ">88, 1/2, d=0.001, g=1.970\n",
            "4/4 [==============================] - 0s 42ms/step\n",
            ">88, 2/2, d=0.001, g=1.980\n",
            "4/4 [==============================] - 0s 42ms/step\n",
            ">89, 1/2, d=0.001, g=1.995\n",
            "4/4 [==============================] - 0s 42ms/step\n",
            ">89, 2/2, d=0.001, g=2.020\n",
            "4/4 [==============================] - 0s 41ms/step\n",
            ">90, 1/2, d=0.000, g=2.078\n",
            "16/16 [==============================] - 1s 44ms/step\n",
            ">Accuracy real: 0%, fake: 100%\n"
          ]
        },
        {
          "name": "stderr",
          "output_type": "stream",
          "text": [
            "WARNING:tensorflow:Compiled the loaded model, but the compiled metrics have yet to be built. `model.compile_metrics` will be empty until you train or evaluate the model.\n"
          ]
        },
        {
          "name": "stdout",
          "output_type": "stream",
          "text": [
            "4/4 [==============================] - 0s 58ms/step\n",
            ">90, 2/2, d=0.000, g=2.088\n",
            "16/16 [==============================] - 1s 43ms/step\n",
            ">Accuracy real: 0%, fake: 100%\n"
          ]
        },
        {
          "name": "stderr",
          "output_type": "stream",
          "text": [
            "WARNING:tensorflow:Compiled the loaded model, but the compiled metrics have yet to be built. `model.compile_metrics` will be empty until you train or evaluate the model.\n"
          ]
        },
        {
          "name": "stdout",
          "output_type": "stream",
          "text": [
            "4/4 [==============================] - 0s 58ms/step\n",
            ">91, 1/2, d=0.000, g=2.111\n",
            "4/4 [==============================] - 0s 41ms/step\n",
            ">91, 2/2, d=0.000, g=2.077\n",
            "4/4 [==============================] - 0s 41ms/step\n",
            ">92, 1/2, d=0.000, g=2.076\n",
            "4/4 [==============================] - 0s 41ms/step\n",
            ">92, 2/2, d=0.001, g=2.073\n",
            "4/4 [==============================] - 0s 41ms/step\n",
            ">93, 1/2, d=0.001, g=2.083\n",
            "4/4 [==============================] - 0s 42ms/step\n",
            ">93, 2/2, d=0.001, g=2.100\n",
            "4/4 [==============================] - 0s 42ms/step\n",
            ">94, 1/2, d=0.000, g=2.138\n",
            "4/4 [==============================] - 0s 42ms/step\n",
            ">94, 2/2, d=0.000, g=2.157\n",
            "4/4 [==============================] - 0s 41ms/step\n",
            ">95, 1/2, d=0.000, g=2.186\n",
            "4/4 [==============================] - 0s 41ms/step\n",
            ">95, 2/2, d=0.000, g=2.148\n",
            "4/4 [==============================] - 0s 42ms/step\n",
            ">96, 1/2, d=0.001, g=2.152\n",
            "4/4 [==============================] - 0s 42ms/step\n",
            ">96, 2/2, d=0.001, g=2.157\n",
            "4/4 [==============================] - 0s 42ms/step\n",
            ">97, 1/2, d=0.001, g=2.164\n",
            "4/4 [==============================] - 0s 42ms/step\n",
            ">97, 2/2, d=0.001, g=2.187\n",
            "4/4 [==============================] - 0s 42ms/step\n",
            ">98, 1/2, d=0.001, g=2.203\n",
            "4/4 [==============================] - 0s 42ms/step\n",
            ">98, 2/2, d=0.001, g=2.216\n",
            "4/4 [==============================] - 0s 42ms/step\n",
            ">99, 1/2, d=0.001, g=2.238\n",
            "4/4 [==============================] - 0s 42ms/step\n",
            ">99, 2/2, d=0.001, g=2.256\n",
            "4/4 [==============================] - 0s 42ms/step\n",
            ">100, 1/2, d=0.000, g=2.294\n",
            "16/16 [==============================] - 1s 44ms/step\n",
            ">Accuracy real: 0%, fake: 100%\n"
          ]
        },
        {
          "name": "stderr",
          "output_type": "stream",
          "text": [
            "WARNING:tensorflow:Compiled the loaded model, but the compiled metrics have yet to be built. `model.compile_metrics` will be empty until you train or evaluate the model.\n"
          ]
        },
        {
          "name": "stdout",
          "output_type": "stream",
          "text": [
            "4/4 [==============================] - 0s 59ms/step\n",
            ">100, 2/2, d=0.000, g=2.344\n",
            "16/16 [==============================] - 1s 43ms/step\n",
            ">Accuracy real: 0%, fake: 100%\n"
          ]
        },
        {
          "name": "stderr",
          "output_type": "stream",
          "text": [
            "WARNING:tensorflow:Compiled the loaded model, but the compiled metrics have yet to be built. `model.compile_metrics` will be empty until you train or evaluate the model.\n"
          ]
        },
        {
          "name": "stdout",
          "output_type": "stream",
          "text": [
            "4/4 [==============================] - 0s 59ms/step\n",
            ">101, 1/2, d=0.000, g=2.369\n",
            "4/4 [==============================] - 0s 41ms/step\n",
            ">101, 2/2, d=0.000, g=2.302\n",
            "4/4 [==============================] - 0s 41ms/step\n",
            ">102, 1/2, d=0.000, g=2.281\n",
            "4/4 [==============================] - 0s 41ms/step\n",
            ">102, 2/2, d=0.001, g=2.286\n",
            "4/4 [==============================] - 0s 42ms/step\n",
            ">103, 1/2, d=0.001, g=2.289\n",
            "4/4 [==============================] - 0s 41ms/step\n",
            ">103, 2/2, d=0.001, g=2.302\n",
            "4/4 [==============================] - 0s 41ms/step\n",
            ">104, 1/2, d=0.001, g=2.314\n",
            "4/4 [==============================] - 0s 42ms/step\n",
            ">104, 2/2, d=0.001, g=2.330\n",
            "4/4 [==============================] - 0s 41ms/step\n",
            ">105, 1/2, d=0.001, g=2.354\n",
            "4/4 [==============================] - 0s 42ms/step\n",
            ">105, 2/2, d=0.000, g=2.406\n",
            "4/4 [==============================] - 0s 42ms/step\n",
            ">106, 1/2, d=0.000, g=2.478\n",
            "4/4 [==============================] - 0s 41ms/step\n",
            ">106, 2/2, d=0.000, g=2.549\n",
            "4/4 [==============================] - 0s 42ms/step\n",
            ">107, 1/2, d=0.000, g=2.448\n",
            "4/4 [==============================] - 0s 42ms/step\n",
            ">107, 2/2, d=0.000, g=2.433\n",
            "4/4 [==============================] - 0s 42ms/step\n",
            ">108, 1/2, d=0.000, g=2.400\n",
            "4/4 [==============================] - 0s 42ms/step\n",
            ">108, 2/2, d=0.001, g=2.385\n",
            "4/4 [==============================] - 0s 42ms/step\n",
            ">109, 1/2, d=0.001, g=2.395\n",
            "4/4 [==============================] - 0s 42ms/step\n",
            ">109, 2/2, d=0.001, g=2.401\n",
            "4/4 [==============================] - 0s 42ms/step\n",
            ">110, 1/2, d=0.001, g=2.420\n",
            "16/16 [==============================] - 1s 44ms/step\n",
            ">Accuracy real: 0%, fake: 100%\n"
          ]
        },
        {
          "name": "stderr",
          "output_type": "stream",
          "text": [
            "WARNING:tensorflow:Compiled the loaded model, but the compiled metrics have yet to be built. `model.compile_metrics` will be empty until you train or evaluate the model.\n"
          ]
        },
        {
          "name": "stdout",
          "output_type": "stream",
          "text": [
            "4/4 [==============================] - 0s 62ms/step\n",
            ">110, 2/2, d=0.001, g=2.441\n",
            "16/16 [==============================] - 1s 44ms/step\n",
            ">Accuracy real: 0%, fake: 100%\n"
          ]
        },
        {
          "name": "stderr",
          "output_type": "stream",
          "text": [
            "WARNING:tensorflow:Compiled the loaded model, but the compiled metrics have yet to be built. `model.compile_metrics` will be empty until you train or evaluate the model.\n"
          ]
        },
        {
          "name": "stdout",
          "output_type": "stream",
          "text": [
            "4/4 [==============================] - 0s 62ms/step\n",
            ">111, 1/2, d=0.001, g=2.465\n",
            "4/4 [==============================] - 0s 41ms/step\n",
            ">111, 2/2, d=0.000, g=2.507\n",
            "4/4 [==============================] - 0s 41ms/step\n",
            ">112, 1/2, d=0.000, g=2.511\n",
            "4/4 [==============================] - 0s 41ms/step\n",
            ">112, 2/2, d=0.000, g=2.518\n",
            "4/4 [==============================] - 0s 41ms/step\n",
            ">113, 1/2, d=0.000, g=2.527\n",
            "4/4 [==============================] - 0s 41ms/step\n",
            ">113, 2/2, d=0.000, g=2.535\n",
            "4/4 [==============================] - 0s 42ms/step\n",
            ">114, 1/2, d=0.000, g=2.550\n",
            "4/4 [==============================] - 0s 41ms/step\n",
            ">114, 2/2, d=0.001, g=2.532\n",
            "4/4 [==============================] - 0s 42ms/step\n",
            ">115, 1/2, d=0.001, g=2.538\n",
            "4/4 [==============================] - 0s 42ms/step\n",
            ">115, 2/2, d=0.001, g=2.555\n",
            "4/4 [==============================] - 0s 41ms/step\n",
            ">116, 1/2, d=0.001, g=2.563\n",
            "4/4 [==============================] - 0s 42ms/step\n",
            ">116, 2/2, d=0.001, g=2.573\n",
            "4/4 [==============================] - 0s 42ms/step\n",
            ">117, 1/2, d=0.001, g=2.581\n",
            "4/4 [==============================] - 0s 42ms/step\n",
            ">117, 2/2, d=0.001, g=2.591\n",
            "4/4 [==============================] - 0s 42ms/step\n",
            ">118, 1/2, d=0.000, g=2.610\n",
            "4/4 [==============================] - 0s 42ms/step\n",
            ">118, 2/2, d=0.001, g=2.620\n",
            "4/4 [==============================] - 0s 42ms/step\n",
            ">119, 1/2, d=0.000, g=2.647\n",
            "4/4 [==============================] - 0s 42ms/step\n",
            ">119, 2/2, d=0.000, g=2.650\n",
            "4/4 [==============================] - 0s 42ms/step\n",
            ">120, 1/2, d=0.000, g=2.681\n",
            "16/16 [==============================] - 1s 44ms/step\n",
            ">Accuracy real: 0%, fake: 100%\n"
          ]
        },
        {
          "name": "stderr",
          "output_type": "stream",
          "text": [
            "WARNING:tensorflow:Compiled the loaded model, but the compiled metrics have yet to be built. `model.compile_metrics` will be empty until you train or evaluate the model.\n"
          ]
        },
        {
          "name": "stdout",
          "output_type": "stream",
          "text": [
            "4/4 [==============================] - 0s 61ms/step\n",
            ">120, 2/2, d=0.000, g=2.673\n",
            "16/16 [==============================] - 1s 43ms/step\n",
            ">Accuracy real: 0%, fake: 100%\n"
          ]
        },
        {
          "name": "stderr",
          "output_type": "stream",
          "text": [
            "WARNING:tensorflow:Compiled the loaded model, but the compiled metrics have yet to be built. `model.compile_metrics` will be empty until you train or evaluate the model.\n"
          ]
        },
        {
          "name": "stdout",
          "output_type": "stream",
          "text": [
            "4/4 [==============================] - 0s 62ms/step\n",
            ">121, 1/2, d=0.000, g=2.662\n",
            "4/4 [==============================] - 0s 41ms/step\n",
            ">121, 2/2, d=0.000, g=2.671\n",
            "4/4 [==============================] - 0s 41ms/step\n",
            ">122, 1/2, d=0.000, g=2.691\n",
            "4/4 [==============================] - 0s 41ms/step\n",
            ">122, 2/2, d=0.000, g=2.766\n",
            "4/4 [==============================] - 0s 41ms/step\n",
            ">123, 1/2, d=0.000, g=2.807\n",
            "4/4 [==============================] - 0s 41ms/step\n",
            ">123, 2/2, d=0.000, g=2.734\n",
            "4/4 [==============================] - 0s 42ms/step\n",
            ">124, 1/2, d=0.000, g=2.735\n",
            "4/4 [==============================] - 0s 42ms/step\n",
            ">124, 2/2, d=0.000, g=2.691\n",
            "4/4 [==============================] - 0s 41ms/step\n",
            ">125, 1/2, d=0.001, g=2.700\n",
            "4/4 [==============================] - 0s 42ms/step\n",
            ">125, 2/2, d=0.000, g=2.703\n",
            "4/4 [==============================] - 0s 41ms/step\n",
            ">126, 1/2, d=0.001, g=2.725\n",
            "4/4 [==============================] - 0s 42ms/step\n",
            ">126, 2/2, d=0.000, g=2.746\n",
            "4/4 [==============================] - 0s 42ms/step\n",
            ">127, 1/2, d=0.000, g=2.746\n",
            "4/4 [==============================] - 0s 42ms/step\n",
            ">127, 2/2, d=0.001, g=2.745\n",
            "4/4 [==============================] - 0s 42ms/step\n",
            ">128, 1/2, d=0.001, g=2.755\n",
            "4/4 [==============================] - 0s 42ms/step\n",
            ">128, 2/2, d=0.000, g=2.769\n",
            "4/4 [==============================] - 0s 42ms/step\n",
            ">129, 1/2, d=0.000, g=2.792\n",
            "4/4 [==============================] - 0s 42ms/step\n",
            ">129, 2/2, d=0.000, g=2.827\n",
            "4/4 [==============================] - 0s 42ms/step\n",
            ">130, 1/2, d=0.000, g=2.841\n",
            "16/16 [==============================] - 1s 44ms/step\n",
            ">Accuracy real: 0%, fake: 100%\n"
          ]
        },
        {
          "name": "stderr",
          "output_type": "stream",
          "text": [
            "WARNING:tensorflow:Compiled the loaded model, but the compiled metrics have yet to be built. `model.compile_metrics` will be empty until you train or evaluate the model.\n"
          ]
        },
        {
          "name": "stdout",
          "output_type": "stream",
          "text": [
            "4/4 [==============================] - 0s 62ms/step\n",
            ">130, 2/2, d=0.000, g=2.902\n",
            "16/16 [==============================] - 1s 43ms/step\n",
            ">Accuracy real: 0%, fake: 100%\n"
          ]
        },
        {
          "name": "stderr",
          "output_type": "stream",
          "text": [
            "WARNING:tensorflow:Compiled the loaded model, but the compiled metrics have yet to be built. `model.compile_metrics` will be empty until you train or evaluate the model.\n"
          ]
        },
        {
          "name": "stdout",
          "output_type": "stream",
          "text": [
            "4/4 [==============================] - 0s 62ms/step\n",
            ">131, 1/2, d=0.000, g=2.876\n",
            "4/4 [==============================] - 0s 41ms/step\n",
            ">131, 2/2, d=0.000, g=2.846\n",
            "4/4 [==============================] - 0s 41ms/step\n",
            ">132, 1/2, d=0.000, g=2.836\n",
            "4/4 [==============================] - 0s 41ms/step\n",
            ">132, 2/2, d=0.000, g=2.845\n",
            "4/4 [==============================] - 0s 41ms/step\n",
            ">133, 1/2, d=0.000, g=2.843\n",
            "4/4 [==============================] - 0s 41ms/step\n",
            ">133, 2/2, d=0.000, g=2.849\n",
            "4/4 [==============================] - 0s 41ms/step\n",
            ">134, 1/2, d=0.000, g=2.855\n",
            "4/4 [==============================] - 0s 41ms/step\n",
            ">134, 2/2, d=0.000, g=2.865\n",
            "4/4 [==============================] - 0s 41ms/step\n",
            ">135, 1/2, d=0.000, g=2.874\n",
            "4/4 [==============================] - 0s 42ms/step\n",
            ">135, 2/2, d=0.000, g=2.884\n",
            "4/4 [==============================] - 0s 42ms/step\n",
            ">136, 1/2, d=0.000, g=2.897\n",
            "4/4 [==============================] - 0s 41ms/step\n",
            ">136, 2/2, d=0.000, g=2.912\n",
            "4/4 [==============================] - 0s 42ms/step\n",
            ">137, 1/2, d=0.000, g=2.919\n",
            "4/4 [==============================] - 0s 42ms/step\n",
            ">137, 2/2, d=0.000, g=2.927\n",
            "4/4 [==============================] - 0s 42ms/step\n",
            ">138, 1/2, d=0.000, g=2.940\n",
            "4/4 [==============================] - 0s 42ms/step\n",
            ">138, 2/2, d=0.000, g=2.943\n",
            "4/4 [==============================] - 0s 42ms/step\n",
            ">139, 1/2, d=0.000, g=2.942\n",
            "4/4 [==============================] - 0s 42ms/step\n",
            ">139, 2/2, d=0.000, g=2.951\n",
            "4/4 [==============================] - 0s 42ms/step\n",
            ">140, 1/2, d=0.000, g=2.968\n",
            "16/16 [==============================] - 1s 44ms/step\n",
            ">Accuracy real: 0%, fake: 100%\n"
          ]
        },
        {
          "name": "stderr",
          "output_type": "stream",
          "text": [
            "WARNING:tensorflow:Compiled the loaded model, but the compiled metrics have yet to be built. `model.compile_metrics` will be empty until you train or evaluate the model.\n"
          ]
        },
        {
          "name": "stdout",
          "output_type": "stream",
          "text": [
            "4/4 [==============================] - 0s 62ms/step\n",
            ">140, 2/2, d=0.000, g=2.999\n",
            "16/16 [==============================] - 1s 44ms/step\n",
            ">Accuracy real: 0%, fake: 100%\n"
          ]
        },
        {
          "name": "stderr",
          "output_type": "stream",
          "text": [
            "WARNING:tensorflow:Compiled the loaded model, but the compiled metrics have yet to be built. `model.compile_metrics` will be empty until you train or evaluate the model.\n"
          ]
        },
        {
          "name": "stdout",
          "output_type": "stream",
          "text": [
            "4/4 [==============================] - 0s 62ms/step\n",
            ">141, 1/2, d=0.000, g=3.012\n",
            "4/4 [==============================] - 0s 41ms/step\n",
            ">141, 2/2, d=0.000, g=3.028\n",
            "4/4 [==============================] - 0s 41ms/step\n",
            ">142, 1/2, d=0.000, g=3.046\n",
            "4/4 [==============================] - 0s 41ms/step\n",
            ">142, 2/2, d=0.000, g=3.040\n",
            "4/4 [==============================] - 0s 42ms/step\n",
            ">143, 1/2, d=0.000, g=3.008\n",
            "4/4 [==============================] - 0s 42ms/step\n",
            ">143, 2/2, d=0.000, g=2.990\n",
            "4/4 [==============================] - 0s 41ms/step\n",
            ">144, 1/2, d=0.000, g=2.991\n",
            "4/4 [==============================] - 0s 42ms/step\n",
            ">144, 2/2, d=0.000, g=2.986\n",
            "4/4 [==============================] - 0s 42ms/step\n",
            ">145, 1/2, d=0.000, g=2.990\n",
            "4/4 [==============================] - 0s 42ms/step\n",
            ">145, 2/2, d=0.000, g=3.002\n",
            "4/4 [==============================] - 0s 42ms/step\n",
            ">146, 1/2, d=0.000, g=3.017\n",
            "4/4 [==============================] - 0s 42ms/step\n",
            ">146, 2/2, d=0.000, g=3.021\n",
            "4/4 [==============================] - 0s 42ms/step\n",
            ">147, 1/2, d=0.000, g=3.030\n",
            "4/4 [==============================] - 0s 42ms/step\n",
            ">147, 2/2, d=0.000, g=3.039\n",
            "4/4 [==============================] - 0s 42ms/step\n",
            ">148, 1/2, d=0.000, g=3.051\n",
            "4/4 [==============================] - 0s 42ms/step\n",
            ">148, 2/2, d=0.000, g=3.065\n",
            "4/4 [==============================] - 0s 42ms/step\n",
            ">149, 1/2, d=0.000, g=3.078\n",
            "4/4 [==============================] - 0s 42ms/step\n",
            ">149, 2/2, d=0.000, g=3.105\n",
            "4/4 [==============================] - 0s 42ms/step\n",
            ">150, 1/2, d=0.000, g=3.162\n",
            "16/16 [==============================] - 1s 44ms/step\n",
            ">Accuracy real: 61%, fake: 100%\n"
          ]
        },
        {
          "name": "stderr",
          "output_type": "stream",
          "text": [
            "WARNING:tensorflow:Compiled the loaded model, but the compiled metrics have yet to be built. `model.compile_metrics` will be empty until you train or evaluate the model.\n"
          ]
        },
        {
          "name": "stdout",
          "output_type": "stream",
          "text": [
            "4/4 [==============================] - 0s 57ms/step\n",
            ">150, 2/2, d=0.000, g=3.234\n",
            "16/16 [==============================] - 1s 43ms/step\n",
            ">Accuracy real: 75%, fake: 100%\n"
          ]
        },
        {
          "name": "stderr",
          "output_type": "stream",
          "text": [
            "WARNING:tensorflow:Compiled the loaded model, but the compiled metrics have yet to be built. `model.compile_metrics` will be empty until you train or evaluate the model.\n"
          ]
        },
        {
          "name": "stdout",
          "output_type": "stream",
          "text": [
            "4/4 [==============================] - 0s 62ms/step\n",
            ">151, 1/2, d=0.000, g=3.258\n",
            "4/4 [==============================] - 0s 41ms/step\n",
            ">151, 2/2, d=0.000, g=3.176\n",
            "4/4 [==============================] - 0s 41ms/step\n",
            ">152, 1/2, d=0.000, g=3.176\n",
            "4/4 [==============================] - 0s 41ms/step\n",
            ">152, 2/2, d=0.000, g=3.119\n",
            "4/4 [==============================] - 0s 41ms/step\n",
            ">153, 1/2, d=0.000, g=3.110\n",
            "4/4 [==============================] - 0s 42ms/step\n",
            ">153, 2/2, d=0.000, g=3.106\n",
            "4/4 [==============================] - 0s 42ms/step\n",
            ">154, 1/2, d=0.000, g=3.100\n",
            "4/4 [==============================] - 0s 42ms/step\n",
            ">154, 2/2, d=0.000, g=3.114\n",
            "4/4 [==============================] - 0s 41ms/step\n",
            ">155, 1/2, d=0.000, g=3.124\n",
            "4/4 [==============================] - 0s 43ms/step\n",
            ">155, 2/2, d=0.000, g=3.140\n",
            "4/4 [==============================] - 0s 42ms/step\n",
            ">156, 1/2, d=0.000, g=3.156\n",
            "4/4 [==============================] - 0s 41ms/step\n",
            ">156, 2/2, d=0.000, g=3.170\n",
            "4/4 [==============================] - 0s 42ms/step\n",
            ">157, 1/2, d=0.000, g=3.181\n",
            "4/4 [==============================] - 0s 41ms/step\n",
            ">157, 2/2, d=0.000, g=3.192\n",
            "4/4 [==============================] - 0s 42ms/step\n",
            ">158, 1/2, d=0.000, g=3.205\n",
            "4/4 [==============================] - 0s 42ms/step\n",
            ">158, 2/2, d=0.000, g=3.219\n",
            "4/4 [==============================] - 0s 42ms/step\n",
            ">159, 1/2, d=0.000, g=3.237\n",
            "4/4 [==============================] - 0s 42ms/step\n",
            ">159, 2/2, d=0.000, g=3.248\n",
            "4/4 [==============================] - 0s 42ms/step\n",
            ">160, 1/2, d=0.000, g=3.266\n",
            "16/16 [==============================] - 1s 44ms/step\n",
            ">Accuracy real: 100%, fake: 100%\n"
          ]
        },
        {
          "name": "stderr",
          "output_type": "stream",
          "text": [
            "WARNING:tensorflow:Compiled the loaded model, but the compiled metrics have yet to be built. `model.compile_metrics` will be empty until you train or evaluate the model.\n"
          ]
        },
        {
          "name": "stdout",
          "output_type": "stream",
          "text": [
            "4/4 [==============================] - 0s 62ms/step\n",
            ">160, 2/2, d=0.000, g=3.306\n",
            "16/16 [==============================] - 1s 43ms/step\n",
            ">Accuracy real: 100%, fake: 100%\n"
          ]
        },
        {
          "name": "stderr",
          "output_type": "stream",
          "text": [
            "WARNING:tensorflow:Compiled the loaded model, but the compiled metrics have yet to be built. `model.compile_metrics` will be empty until you train or evaluate the model.\n"
          ]
        },
        {
          "name": "stdout",
          "output_type": "stream",
          "text": [
            "4/4 [==============================] - 0s 62ms/step\n",
            ">161, 1/2, d=0.000, g=3.287\n",
            "4/4 [==============================] - 0s 41ms/step\n",
            ">161, 2/2, d=0.000, g=3.290\n",
            "4/4 [==============================] - 0s 41ms/step\n",
            ">162, 1/2, d=0.000, g=3.274\n",
            "4/4 [==============================] - 0s 41ms/step\n",
            ">162, 2/2, d=0.000, g=3.271\n",
            "4/4 [==============================] - 0s 42ms/step\n",
            ">163, 1/2, d=0.000, g=3.276\n",
            "4/4 [==============================] - 0s 42ms/step\n",
            ">163, 2/2, d=0.000, g=3.299\n",
            "4/4 [==============================] - 0s 41ms/step\n",
            ">164, 1/2, d=0.000, g=3.330\n",
            "4/4 [==============================] - 0s 41ms/step\n",
            ">164, 2/2, d=0.000, g=3.330\n",
            "4/4 [==============================] - 0s 42ms/step\n",
            ">165, 1/2, d=0.000, g=3.326\n",
            "4/4 [==============================] - 0s 41ms/step\n",
            ">165, 2/2, d=0.000, g=3.337\n",
            "4/4 [==============================] - 0s 42ms/step\n",
            ">166, 1/2, d=0.000, g=3.342\n",
            "4/4 [==============================] - 0s 42ms/step\n",
            ">166, 2/2, d=0.000, g=3.345\n",
            "4/4 [==============================] - 0s 42ms/step\n",
            ">167, 1/2, d=0.000, g=3.354\n",
            "4/4 [==============================] - 0s 42ms/step\n",
            ">167, 2/2, d=0.000, g=3.365\n",
            "4/4 [==============================] - 0s 42ms/step\n",
            ">168, 1/2, d=0.000, g=3.375\n",
            "4/4 [==============================] - 0s 42ms/step\n",
            ">168, 2/2, d=0.000, g=3.390\n",
            "4/4 [==============================] - 0s 42ms/step\n",
            ">169, 1/2, d=0.000, g=3.417\n",
            "4/4 [==============================] - 0s 42ms/step\n",
            ">169, 2/2, d=0.000, g=3.465\n",
            "4/4 [==============================] - 0s 42ms/step\n",
            ">170, 1/2, d=0.000, g=3.530\n",
            "16/16 [==============================] - 1s 44ms/step\n",
            ">Accuracy real: 100%, fake: 100%\n"
          ]
        },
        {
          "name": "stderr",
          "output_type": "stream",
          "text": [
            "WARNING:tensorflow:Compiled the loaded model, but the compiled metrics have yet to be built. `model.compile_metrics` will be empty until you train or evaluate the model.\n"
          ]
        },
        {
          "name": "stdout",
          "output_type": "stream",
          "text": [
            "4/4 [==============================] - 0s 62ms/step\n",
            ">170, 2/2, d=0.000, g=3.543\n",
            "16/16 [==============================] - 1s 44ms/step\n",
            ">Accuracy real: 100%, fake: 100%\n"
          ]
        },
        {
          "name": "stderr",
          "output_type": "stream",
          "text": [
            "WARNING:tensorflow:Compiled the loaded model, but the compiled metrics have yet to be built. `model.compile_metrics` will be empty until you train or evaluate the model.\n"
          ]
        },
        {
          "name": "stdout",
          "output_type": "stream",
          "text": [
            "4/4 [==============================] - 0s 58ms/step\n",
            ">171, 1/2, d=0.000, g=3.543\n",
            "4/4 [==============================] - 0s 41ms/step\n",
            ">171, 2/2, d=0.000, g=3.479\n",
            "4/4 [==============================] - 0s 41ms/step\n",
            ">172, 1/2, d=0.000, g=3.472\n",
            "4/4 [==============================] - 0s 41ms/step\n",
            ">172, 2/2, d=0.000, g=3.458\n",
            "4/4 [==============================] - 0s 41ms/step\n",
            ">173, 1/2, d=0.000, g=3.458\n",
            "4/4 [==============================] - 0s 41ms/step\n",
            ">173, 2/2, d=0.000, g=3.457\n",
            "4/4 [==============================] - 0s 41ms/step\n",
            ">174, 1/2, d=0.000, g=3.459\n",
            "4/4 [==============================] - 0s 41ms/step\n",
            ">174, 2/2, d=0.000, g=3.474\n",
            "4/4 [==============================] - 0s 41ms/step\n",
            ">175, 1/2, d=0.000, g=3.488\n",
            "4/4 [==============================] - 0s 42ms/step\n",
            ">175, 2/2, d=0.000, g=3.497\n",
            "4/4 [==============================] - 0s 42ms/step\n",
            ">176, 1/2, d=0.000, g=3.506\n",
            "4/4 [==============================] - 0s 41ms/step\n",
            ">176, 2/2, d=0.000, g=3.521\n",
            "4/4 [==============================] - 0s 42ms/step\n",
            ">177, 1/2, d=0.000, g=3.525\n",
            "4/4 [==============================] - 0s 42ms/step\n",
            ">177, 2/2, d=0.000, g=3.544\n",
            "4/4 [==============================] - 0s 42ms/step\n",
            ">178, 1/2, d=0.000, g=3.555\n",
            "4/4 [==============================] - 0s 42ms/step\n",
            ">178, 2/2, d=0.000, g=3.571\n",
            "4/4 [==============================] - 0s 42ms/step\n",
            ">179, 1/2, d=0.000, g=3.588\n",
            "4/4 [==============================] - 0s 42ms/step\n",
            ">179, 2/2, d=0.000, g=3.585\n",
            "4/4 [==============================] - 0s 42ms/step\n",
            ">180, 1/2, d=0.000, g=3.598\n",
            "16/16 [==============================] - 1s 44ms/step\n",
            ">Accuracy real: 100%, fake: 100%\n"
          ]
        },
        {
          "name": "stderr",
          "output_type": "stream",
          "text": [
            "WARNING:tensorflow:Compiled the loaded model, but the compiled metrics have yet to be built. `model.compile_metrics` will be empty until you train or evaluate the model.\n"
          ]
        },
        {
          "name": "stdout",
          "output_type": "stream",
          "text": [
            "4/4 [==============================] - 0s 62ms/step\n",
            ">180, 2/2, d=0.000, g=3.629\n",
            "16/16 [==============================] - 1s 43ms/step\n",
            ">Accuracy real: 100%, fake: 100%\n"
          ]
        },
        {
          "name": "stderr",
          "output_type": "stream",
          "text": [
            "WARNING:tensorflow:Compiled the loaded model, but the compiled metrics have yet to be built. `model.compile_metrics` will be empty until you train or evaluate the model.\n"
          ]
        },
        {
          "name": "stdout",
          "output_type": "stream",
          "text": [
            "4/4 [==============================] - 0s 62ms/step\n",
            ">181, 1/2, d=0.000, g=3.621\n",
            "4/4 [==============================] - 0s 41ms/step\n",
            ">181, 2/2, d=0.000, g=3.626\n",
            "4/4 [==============================] - 0s 41ms/step\n",
            ">182, 1/2, d=0.000, g=3.631\n",
            "4/4 [==============================] - 0s 41ms/step\n",
            ">182, 2/2, d=0.000, g=3.632\n",
            "4/4 [==============================] - 0s 41ms/step\n",
            ">183, 1/2, d=0.000, g=3.637\n",
            "4/4 [==============================] - 0s 41ms/step\n",
            ">183, 2/2, d=0.000, g=3.651\n",
            "4/4 [==============================] - 0s 41ms/step\n",
            ">184, 1/2, d=0.000, g=3.653\n",
            "4/4 [==============================] - 0s 41ms/step\n",
            ">184, 2/2, d=0.000, g=3.674\n",
            "4/4 [==============================] - 0s 42ms/step\n",
            ">185, 1/2, d=0.000, g=3.678\n",
            "4/4 [==============================] - 0s 41ms/step\n",
            ">185, 2/2, d=0.000, g=3.693\n",
            "4/4 [==============================] - 0s 42ms/step\n",
            ">186, 1/2, d=0.000, g=3.709\n",
            "4/4 [==============================] - 0s 42ms/step\n",
            ">186, 2/2, d=0.000, g=3.735\n",
            "4/4 [==============================] - 0s 42ms/step\n",
            ">187, 1/2, d=0.000, g=3.778\n",
            "4/4 [==============================] - 0s 42ms/step\n",
            ">187, 2/2, d=0.000, g=3.792\n",
            "4/4 [==============================] - 0s 42ms/step\n",
            ">188, 1/2, d=0.000, g=3.812\n",
            "4/4 [==============================] - 0s 42ms/step\n",
            ">188, 2/2, d=0.000, g=3.860\n",
            "4/4 [==============================] - 0s 42ms/step\n",
            ">189, 1/2, d=0.000, g=3.935\n",
            "4/4 [==============================] - 0s 42ms/step\n",
            ">189, 2/2, d=0.000, g=3.978\n",
            "4/4 [==============================] - 0s 42ms/step\n",
            ">190, 1/2, d=0.000, g=3.986\n",
            "16/16 [==============================] - 1s 44ms/step\n",
            ">Accuracy real: 100%, fake: 100%\n"
          ]
        },
        {
          "name": "stderr",
          "output_type": "stream",
          "text": [
            "WARNING:tensorflow:Compiled the loaded model, but the compiled metrics have yet to be built. `model.compile_metrics` will be empty until you train or evaluate the model.\n"
          ]
        },
        {
          "name": "stdout",
          "output_type": "stream",
          "text": [
            "4/4 [==============================] - 0s 59ms/step\n",
            ">190, 2/2, d=0.000, g=3.922\n",
            "16/16 [==============================] - 1s 43ms/step\n",
            ">Accuracy real: 100%, fake: 100%\n"
          ]
        },
        {
          "name": "stderr",
          "output_type": "stream",
          "text": [
            "WARNING:tensorflow:Compiled the loaded model, but the compiled metrics have yet to be built. `model.compile_metrics` will be empty until you train or evaluate the model.\n"
          ]
        },
        {
          "name": "stdout",
          "output_type": "stream",
          "text": [
            "4/4 [==============================] - 0s 57ms/step\n",
            ">191, 1/2, d=0.000, g=3.837\n",
            "4/4 [==============================] - 0s 41ms/step\n",
            ">191, 2/2, d=0.000, g=3.813\n",
            "4/4 [==============================] - 0s 42ms/step\n",
            ">192, 1/2, d=0.000, g=3.800\n",
            "4/4 [==============================] - 0s 41ms/step\n",
            ">192, 2/2, d=0.000, g=3.787\n",
            "4/4 [==============================] - 0s 41ms/step\n",
            ">193, 1/2, d=0.000, g=3.800\n",
            "4/4 [==============================] - 0s 41ms/step\n",
            ">193, 2/2, d=0.000, g=3.796\n",
            "4/4 [==============================] - 0s 42ms/step\n",
            ">194, 1/2, d=0.000, g=3.781\n",
            "4/4 [==============================] - 0s 41ms/step\n",
            ">194, 2/2, d=0.000, g=3.798\n",
            "4/4 [==============================] - 0s 42ms/step\n",
            ">195, 1/2, d=0.000, g=3.821\n",
            "4/4 [==============================] - 0s 41ms/step\n",
            ">195, 2/2, d=0.000, g=3.823\n",
            "4/4 [==============================] - 0s 42ms/step\n",
            ">196, 1/2, d=0.000, g=3.816\n",
            "4/4 [==============================] - 0s 42ms/step\n",
            ">196, 2/2, d=0.000, g=3.853\n",
            "4/4 [==============================] - 0s 42ms/step\n",
            ">197, 1/2, d=0.000, g=3.860\n",
            "4/4 [==============================] - 0s 42ms/step\n",
            ">197, 2/2, d=0.000, g=3.869\n",
            "4/4 [==============================] - 0s 42ms/step\n",
            ">198, 1/2, d=0.000, g=3.881\n",
            "4/4 [==============================] - 0s 42ms/step\n",
            ">198, 2/2, d=0.000, g=3.881\n",
            "4/4 [==============================] - 0s 41ms/step\n",
            ">199, 1/2, d=0.000, g=3.810\n",
            "4/4 [==============================] - 0s 42ms/step\n",
            ">199, 2/2, d=0.005, g=2.610\n",
            "4/4 [==============================] - 0s 42ms/step\n",
            ">200, 1/2, d=0.044, g=6.937\n",
            "16/16 [==============================] - 1s 44ms/step\n",
            ">Accuracy real: 100%, fake: 100%\n"
          ]
        },
        {
          "name": "stderr",
          "output_type": "stream",
          "text": [
            "WARNING:tensorflow:Compiled the loaded model, but the compiled metrics have yet to be built. `model.compile_metrics` will be empty until you train or evaluate the model.\n"
          ]
        },
        {
          "name": "stdout",
          "output_type": "stream",
          "text": [
            "4/4 [==============================] - 0s 62ms/step\n",
            ">200, 2/2, d=0.000, g=9.857\n",
            "16/16 [==============================] - 1s 43ms/step\n",
            ">Accuracy real: 100%, fake: 100%\n"
          ]
        },
        {
          "name": "stderr",
          "output_type": "stream",
          "text": [
            "WARNING:tensorflow:Compiled the loaded model, but the compiled metrics have yet to be built. `model.compile_metrics` will be empty until you train or evaluate the model.\n"
          ]
        },
        {
          "name": "stdout",
          "output_type": "stream",
          "text": [
            "4/4 [==============================] - 0s 57ms/step\n",
            ">201, 1/2, d=0.000, g=10.748\n",
            "4/4 [==============================] - 0s 41ms/step\n",
            ">201, 2/2, d=0.000, g=9.247\n",
            "4/4 [==============================] - 0s 41ms/step\n",
            ">202, 1/2, d=9.381, g=7.688\n",
            "4/4 [==============================] - 0s 41ms/step\n",
            ">202, 2/2, d=0.001, g=11.831\n",
            "4/4 [==============================] - 0s 41ms/step\n",
            ">203, 1/2, d=0.000, g=11.740\n",
            "4/4 [==============================] - 0s 41ms/step\n",
            ">203, 2/2, d=0.001, g=10.981\n",
            "4/4 [==============================] - 0s 41ms/step\n",
            ">204, 1/2, d=0.002, g=10.258\n",
            "4/4 [==============================] - 0s 41ms/step\n",
            ">204, 2/2, d=0.004, g=9.756\n",
            "4/4 [==============================] - 0s 42ms/step\n",
            ">205, 1/2, d=0.005, g=9.445\n",
            "4/4 [==============================] - 0s 42ms/step\n",
            ">205, 2/2, d=0.006, g=9.215\n",
            "4/4 [==============================] - 0s 42ms/step\n",
            ">206, 1/2, d=0.005, g=9.103\n",
            "4/4 [==============================] - 0s 42ms/step\n",
            ">206, 2/2, d=0.005, g=9.069\n",
            "4/4 [==============================] - 0s 42ms/step\n",
            ">207, 1/2, d=0.005, g=8.990\n",
            "4/4 [==============================] - 0s 42ms/step\n",
            ">207, 2/2, d=0.005, g=8.878\n",
            "4/4 [==============================] - 0s 42ms/step\n",
            ">208, 1/2, d=0.005, g=8.825\n",
            "4/4 [==============================] - 0s 42ms/step\n",
            ">208, 2/2, d=0.005, g=8.674\n",
            "4/4 [==============================] - 0s 42ms/step\n",
            ">209, 1/2, d=0.005, g=8.583\n",
            "4/4 [==============================] - 0s 42ms/step\n",
            ">209, 2/2, d=0.005, g=8.543\n",
            "4/4 [==============================] - 0s 42ms/step\n",
            ">210, 1/2, d=0.005, g=8.502\n",
            "16/16 [==============================] - 1s 44ms/step\n",
            ">Accuracy real: 100%, fake: 100%\n"
          ]
        },
        {
          "name": "stderr",
          "output_type": "stream",
          "text": [
            "WARNING:tensorflow:Compiled the loaded model, but the compiled metrics have yet to be built. `model.compile_metrics` will be empty until you train or evaluate the model.\n"
          ]
        },
        {
          "name": "stdout",
          "output_type": "stream",
          "text": [
            "4/4 [==============================] - 0s 56ms/step\n",
            ">210, 2/2, d=0.005, g=8.496\n",
            "16/16 [==============================] - 1s 43ms/step\n",
            ">Accuracy real: 100%, fake: 100%\n"
          ]
        },
        {
          "name": "stderr",
          "output_type": "stream",
          "text": [
            "WARNING:tensorflow:Compiled the loaded model, but the compiled metrics have yet to be built. `model.compile_metrics` will be empty until you train or evaluate the model.\n"
          ]
        },
        {
          "name": "stdout",
          "output_type": "stream",
          "text": [
            "4/4 [==============================] - 0s 57ms/step\n",
            ">211, 1/2, d=0.004, g=8.567\n",
            "4/4 [==============================] - 0s 42ms/step\n",
            ">211, 2/2, d=0.003, g=8.650\n",
            "4/4 [==============================] - 0s 41ms/step\n",
            ">212, 1/2, d=0.003, g=8.570\n",
            "4/4 [==============================] - 0s 41ms/step\n",
            ">212, 2/2, d=0.004, g=8.458\n",
            "4/4 [==============================] - 0s 41ms/step\n",
            ">213, 1/2, d=0.004, g=8.432\n",
            "4/4 [==============================] - 0s 41ms/step\n",
            ">213, 2/2, d=0.004, g=8.417\n",
            "4/4 [==============================] - 0s 41ms/step\n",
            ">214, 1/2, d=0.004, g=8.458\n",
            "4/4 [==============================] - 0s 42ms/step\n",
            ">214, 2/2, d=0.003, g=8.540\n",
            "4/4 [==============================] - 0s 41ms/step\n",
            ">215, 1/2, d=0.002, g=8.696\n",
            "4/4 [==============================] - 0s 41ms/step\n",
            ">215, 2/2, d=0.002, g=8.626\n",
            "4/4 [==============================] - 0s 42ms/step\n",
            ">216, 1/2, d=0.002, g=8.515\n",
            "4/4 [==============================] - 0s 42ms/step\n",
            ">216, 2/2, d=0.003, g=8.439\n",
            "4/4 [==============================] - 0s 41ms/step\n",
            ">217, 1/2, d=0.003, g=8.411\n",
            "4/4 [==============================] - 0s 42ms/step\n",
            ">217, 2/2, d=0.003, g=8.391\n",
            "4/4 [==============================] - 0s 41ms/step\n",
            ">218, 1/2, d=0.003, g=8.391\n",
            "4/4 [==============================] - 0s 42ms/step\n",
            ">218, 2/2, d=0.003, g=8.325\n",
            "4/4 [==============================] - 0s 42ms/step\n",
            ">219, 1/2, d=0.002, g=8.206\n",
            "4/4 [==============================] - 0s 42ms/step\n",
            ">219, 2/2, d=0.002, g=8.128\n",
            "4/4 [==============================] - 0s 41ms/step\n",
            ">220, 1/2, d=0.003, g=8.079\n",
            "16/16 [==============================] - 1s 44ms/step\n",
            ">Accuracy real: 100%, fake: 100%\n"
          ]
        },
        {
          "name": "stderr",
          "output_type": "stream",
          "text": [
            "WARNING:tensorflow:Compiled the loaded model, but the compiled metrics have yet to be built. `model.compile_metrics` will be empty until you train or evaluate the model.\n"
          ]
        },
        {
          "name": "stdout",
          "output_type": "stream",
          "text": [
            "4/4 [==============================] - 0s 61ms/step\n",
            ">220, 2/2, d=0.002, g=7.817\n",
            "16/16 [==============================] - 1s 43ms/step\n",
            ">Accuracy real: 100%, fake: 100%\n"
          ]
        },
        {
          "name": "stderr",
          "output_type": "stream",
          "text": [
            "WARNING:tensorflow:Compiled the loaded model, but the compiled metrics have yet to be built. `model.compile_metrics` will be empty until you train or evaluate the model.\n"
          ]
        },
        {
          "name": "stdout",
          "output_type": "stream",
          "text": [
            "4/4 [==============================] - 0s 62ms/step\n",
            ">221, 1/2, d=0.006, g=7.548\n",
            "4/4 [==============================] - 0s 41ms/step\n",
            ">221, 2/2, d=0.004, g=7.439\n",
            "4/4 [==============================] - 0s 41ms/step\n",
            ">222, 1/2, d=0.006, g=7.490\n",
            "4/4 [==============================] - 0s 41ms/step\n",
            ">222, 2/2, d=0.007, g=7.690\n",
            "4/4 [==============================] - 0s 42ms/step\n",
            ">223, 1/2, d=0.005, g=7.869\n",
            "4/4 [==============================] - 0s 41ms/step\n",
            ">223, 2/2, d=0.004, g=8.010\n",
            "4/4 [==============================] - 0s 41ms/step\n",
            ">224, 1/2, d=0.003, g=8.038\n",
            "4/4 [==============================] - 0s 42ms/step\n",
            ">224, 2/2, d=0.004, g=8.153\n",
            "4/4 [==============================] - 0s 42ms/step\n",
            ">225, 1/2, d=0.005, g=8.208\n",
            "4/4 [==============================] - 0s 41ms/step\n",
            ">225, 2/2, d=0.007, g=8.024\n",
            "4/4 [==============================] - 0s 42ms/step\n",
            ">226, 1/2, d=0.019, g=8.186\n",
            "4/4 [==============================] - 0s 41ms/step\n",
            ">226, 2/2, d=0.030, g=7.864\n",
            "4/4 [==============================] - 0s 41ms/step\n",
            ">227, 1/2, d=0.041, g=5.737\n",
            "4/4 [==============================] - 0s 41ms/step\n",
            ">227, 2/2, d=0.234, g=5.417\n",
            "4/4 [==============================] - 0s 41ms/step\n",
            ">228, 1/2, d=0.006, g=3.888\n",
            "4/4 [==============================] - 0s 41ms/step\n",
            ">228, 2/2, d=0.025, g=3.464\n",
            "4/4 [==============================] - 0s 41ms/step\n",
            ">229, 1/2, d=0.059, g=2.233\n",
            "4/4 [==============================] - 0s 41ms/step\n",
            ">229, 2/2, d=0.027, g=2.439\n",
            "4/4 [==============================] - 0s 42ms/step\n",
            ">230, 1/2, d=0.020, g=2.029\n",
            "16/16 [==============================] - 1s 44ms/step\n",
            ">Accuracy real: 100%, fake: 59%\n"
          ]
        },
        {
          "name": "stderr",
          "output_type": "stream",
          "text": [
            "WARNING:tensorflow:Compiled the loaded model, but the compiled metrics have yet to be built. `model.compile_metrics` will be empty until you train or evaluate the model.\n"
          ]
        },
        {
          "name": "stdout",
          "output_type": "stream",
          "text": [
            "4/4 [==============================] - 0s 62ms/step\n",
            ">230, 2/2, d=0.049, g=1.349\n",
            "16/16 [==============================] - 1s 43ms/step\n",
            ">Accuracy real: 100%, fake: 17%\n"
          ]
        },
        {
          "name": "stderr",
          "output_type": "stream",
          "text": [
            "WARNING:tensorflow:Compiled the loaded model, but the compiled metrics have yet to be built. `model.compile_metrics` will be empty until you train or evaluate the model.\n"
          ]
        },
        {
          "name": "stdout",
          "output_type": "stream",
          "text": [
            "4/4 [==============================] - 0s 62ms/step\n",
            ">231, 1/2, d=0.107, g=0.940\n",
            "4/4 [==============================] - 0s 41ms/step\n",
            ">231, 2/2, d=0.108, g=0.682\n",
            "4/4 [==============================] - 0s 41ms/step\n",
            ">232, 1/2, d=0.205, g=0.961\n",
            "4/4 [==============================] - 0s 41ms/step\n",
            ">232, 2/2, d=0.309, g=1.811\n",
            "4/4 [==============================] - 0s 42ms/step\n",
            ">233, 1/2, d=0.037, g=0.692\n",
            "4/4 [==============================] - 0s 41ms/step\n",
            ">233, 2/2, d=0.086, g=0.749\n",
            "4/4 [==============================] - 0s 41ms/step\n",
            ">234, 1/2, d=0.033, g=0.939\n",
            "4/4 [==============================] - 0s 41ms/step\n",
            ">234, 2/2, d=0.074, g=1.140\n",
            "4/4 [==============================] - 0s 41ms/step\n",
            ">235, 1/2, d=0.070, g=0.996\n",
            "4/4 [==============================] - 0s 42ms/step\n",
            ">235, 2/2, d=0.112, g=0.657\n",
            "4/4 [==============================] - 0s 41ms/step\n",
            ">236, 1/2, d=0.118, g=0.255\n",
            "4/4 [==============================] - 0s 42ms/step\n",
            ">236, 2/2, d=0.031, g=0.126\n",
            "4/4 [==============================] - 0s 41ms/step\n",
            ">237, 1/2, d=0.016, g=0.082\n",
            "4/4 [==============================] - 0s 42ms/step\n",
            ">237, 2/2, d=0.024, g=0.075\n",
            "4/4 [==============================] - 0s 42ms/step\n",
            ">238, 1/2, d=0.018, g=0.066\n",
            "4/4 [==============================] - 0s 42ms/step\n",
            ">238, 2/2, d=0.017, g=0.059\n",
            "4/4 [==============================] - 0s 42ms/step\n",
            ">239, 1/2, d=0.013, g=0.063\n",
            "4/4 [==============================] - 0s 41ms/step\n",
            ">239, 2/2, d=0.013, g=0.073\n",
            "4/4 [==============================] - 0s 42ms/step\n",
            ">240, 1/2, d=0.011, g=0.079\n",
            "16/16 [==============================] - 1s 44ms/step\n",
            ">Accuracy real: 100%, fake: 0%\n"
          ]
        },
        {
          "name": "stderr",
          "output_type": "stream",
          "text": [
            "WARNING:tensorflow:Compiled the loaded model, but the compiled metrics have yet to be built. `model.compile_metrics` will be empty until you train or evaluate the model.\n"
          ]
        },
        {
          "name": "stdout",
          "output_type": "stream",
          "text": [
            "4/4 [==============================] - 0s 62ms/step\n",
            ">240, 2/2, d=0.011, g=0.083\n",
            "16/16 [==============================] - 1s 43ms/step\n",
            ">Accuracy real: 100%, fake: 0%\n"
          ]
        },
        {
          "name": "stderr",
          "output_type": "stream",
          "text": [
            "WARNING:tensorflow:Compiled the loaded model, but the compiled metrics have yet to be built. `model.compile_metrics` will be empty until you train or evaluate the model.\n"
          ]
        },
        {
          "name": "stdout",
          "output_type": "stream",
          "text": [
            "4/4 [==============================] - 0s 60ms/step\n",
            ">241, 1/2, d=0.009, g=0.088\n",
            "4/4 [==============================] - 0s 41ms/step\n",
            ">241, 2/2, d=0.009, g=0.103\n",
            "4/4 [==============================] - 0s 41ms/step\n",
            ">242, 1/2, d=0.010, g=0.091\n",
            "4/4 [==============================] - 0s 41ms/step\n",
            ">242, 2/2, d=0.013, g=0.098\n",
            "4/4 [==============================] - 0s 42ms/step\n",
            ">243, 1/2, d=0.012, g=0.103\n",
            "4/4 [==============================] - 0s 41ms/step\n",
            ">243, 2/2, d=0.013, g=0.110\n",
            "4/4 [==============================] - 0s 41ms/step\n",
            ">244, 1/2, d=0.015, g=0.114\n",
            "4/4 [==============================] - 0s 41ms/step\n",
            ">244, 2/2, d=0.016, g=0.139\n",
            "4/4 [==============================] - 0s 42ms/step\n",
            ">245, 1/2, d=0.017, g=0.138\n",
            "4/4 [==============================] - 0s 41ms/step\n",
            ">245, 2/2, d=0.020, g=0.153\n",
            "4/4 [==============================] - 0s 42ms/step\n",
            ">246, 1/2, d=0.025, g=0.172\n",
            "4/4 [==============================] - 0s 42ms/step\n",
            ">246, 2/2, d=0.025, g=0.174\n",
            "4/4 [==============================] - 0s 41ms/step\n",
            ">247, 1/2, d=0.028, g=0.210\n",
            "4/4 [==============================] - 0s 41ms/step\n",
            ">247, 2/2, d=0.034, g=0.198\n",
            "4/4 [==============================] - 0s 41ms/step\n",
            ">248, 1/2, d=0.036, g=0.287\n",
            "4/4 [==============================] - 0s 42ms/step\n",
            ">248, 2/2, d=0.052, g=0.166\n",
            "4/4 [==============================] - 0s 42ms/step\n",
            ">249, 1/2, d=0.078, g=0.539\n",
            "4/4 [==============================] - 0s 42ms/step\n",
            ">249, 2/2, d=0.086, g=0.267\n",
            "4/4 [==============================] - 0s 41ms/step\n",
            ">250, 1/2, d=0.101, g=0.452\n",
            "16/16 [==============================] - 1s 44ms/step\n",
            ">Accuracy real: 100%, fake: 0%\n"
          ]
        },
        {
          "name": "stderr",
          "output_type": "stream",
          "text": [
            "WARNING:tensorflow:Compiled the loaded model, but the compiled metrics have yet to be built. `model.compile_metrics` will be empty until you train or evaluate the model.\n"
          ]
        },
        {
          "name": "stdout",
          "output_type": "stream",
          "text": [
            "4/4 [==============================] - 0s 62ms/step\n",
            ">250, 2/2, d=0.052, g=0.247\n",
            "16/16 [==============================] - 1s 43ms/step\n",
            ">Accuracy real: 100%, fake: 0%\n"
          ]
        },
        {
          "name": "stderr",
          "output_type": "stream",
          "text": [
            "WARNING:tensorflow:Compiled the loaded model, but the compiled metrics have yet to be built. `model.compile_metrics` will be empty until you train or evaluate the model.\n"
          ]
        },
        {
          "name": "stdout",
          "output_type": "stream",
          "text": [
            "4/4 [==============================] - 0s 61ms/step\n",
            ">251, 1/2, d=0.017, g=0.196\n",
            "4/4 [==============================] - 0s 41ms/step\n",
            ">251, 2/2, d=0.027, g=0.197\n",
            "4/4 [==============================] - 0s 41ms/step\n",
            ">252, 1/2, d=0.015, g=0.168\n",
            "4/4 [==============================] - 0s 41ms/step\n",
            ">252, 2/2, d=0.020, g=0.134\n",
            "4/4 [==============================] - 0s 41ms/step\n",
            ">253, 1/2, d=0.027, g=0.132\n",
            "4/4 [==============================] - 0s 42ms/step\n",
            ">253, 2/2, d=0.030, g=0.094\n",
            "4/4 [==============================] - 0s 41ms/step\n",
            ">254, 1/2, d=0.035, g=0.154\n",
            "4/4 [==============================] - 0s 41ms/step\n",
            ">254, 2/2, d=0.072, g=0.100\n",
            "4/4 [==============================] - 0s 42ms/step\n",
            ">255, 1/2, d=0.711, g=1.424\n",
            "4/4 [==============================] - 0s 42ms/step\n",
            ">255, 2/2, d=2.818, g=1.136\n",
            "4/4 [==============================] - 0s 41ms/step\n",
            ">256, 1/2, d=0.634, g=2.664\n",
            "4/4 [==============================] - 0s 42ms/step\n",
            ">256, 2/2, d=1.634, g=0.077\n",
            "4/4 [==============================] - 0s 41ms/step\n",
            ">257, 1/2, d=0.205, g=2.031\n",
            "4/4 [==============================] - 0s 41ms/step\n",
            ">257, 2/2, d=0.051, g=2.494\n",
            "4/4 [==============================] - 0s 42ms/step\n",
            ">258, 1/2, d=0.065, g=1.636\n",
            "4/4 [==============================] - 0s 42ms/step\n",
            ">258, 2/2, d=0.588, g=0.453\n",
            "4/4 [==============================] - 0s 42ms/step\n",
            ">259, 1/2, d=0.422, g=0.150\n",
            "4/4 [==============================] - 0s 42ms/step\n",
            ">259, 2/2, d=0.865, g=0.007\n",
            "4/4 [==============================] - 0s 42ms/step\n",
            ">260, 1/2, d=0.373, g=0.196\n",
            "16/16 [==============================] - 1s 44ms/step\n",
            ">Accuracy real: 100%, fake: 0%\n"
          ]
        },
        {
          "name": "stderr",
          "output_type": "stream",
          "text": [
            "WARNING:tensorflow:Compiled the loaded model, but the compiled metrics have yet to be built. `model.compile_metrics` will be empty until you train or evaluate the model.\n"
          ]
        },
        {
          "name": "stdout",
          "output_type": "stream",
          "text": [
            "4/4 [==============================] - 0s 62ms/step\n",
            ">260, 2/2, d=0.096, g=1.196\n",
            "16/16 [==============================] - 1s 44ms/step\n",
            ">Accuracy real: 100%, fake: 7%\n"
          ]
        },
        {
          "name": "stderr",
          "output_type": "stream",
          "text": [
            "WARNING:tensorflow:Compiled the loaded model, but the compiled metrics have yet to be built. `model.compile_metrics` will be empty until you train or evaluate the model.\n"
          ]
        },
        {
          "name": "stdout",
          "output_type": "stream",
          "text": [
            "4/4 [==============================] - 0s 62ms/step\n",
            ">261, 1/2, d=0.097, g=1.706\n",
            "4/4 [==============================] - 0s 42ms/step\n",
            ">261, 2/2, d=0.157, g=1.848\n",
            "4/4 [==============================] - 0s 42ms/step\n",
            ">262, 1/2, d=0.252, g=2.183\n",
            "4/4 [==============================] - 0s 41ms/step\n",
            ">262, 2/2, d=0.481, g=1.827\n",
            "4/4 [==============================] - 0s 41ms/step\n",
            ">263, 1/2, d=0.521, g=0.362\n",
            "4/4 [==============================] - 0s 41ms/step\n",
            ">263, 2/2, d=0.241, g=0.277\n",
            "4/4 [==============================] - 0s 41ms/step\n",
            ">264, 1/2, d=0.056, g=0.317\n",
            "4/4 [==============================] - 0s 41ms/step\n",
            ">264, 2/2, d=0.037, g=0.327\n",
            "4/4 [==============================] - 0s 41ms/step\n",
            ">265, 1/2, d=0.031, g=0.333\n",
            "4/4 [==============================] - 0s 41ms/step\n",
            ">265, 2/2, d=0.030, g=0.339\n",
            "4/4 [==============================] - 0s 41ms/step\n",
            ">266, 1/2, d=0.029, g=0.339\n",
            "4/4 [==============================] - 0s 41ms/step\n",
            ">266, 2/2, d=0.032, g=0.327\n",
            "4/4 [==============================] - 0s 41ms/step\n",
            ">267, 1/2, d=0.030, g=0.316\n",
            "4/4 [==============================] - 0s 41ms/step\n",
            ">267, 2/2, d=0.030, g=0.291\n",
            "4/4 [==============================] - 0s 41ms/step\n",
            ">268, 1/2, d=0.030, g=0.238\n",
            "4/4 [==============================] - 0s 42ms/step\n",
            ">268, 2/2, d=0.030, g=0.191\n",
            "4/4 [==============================] - 0s 42ms/step\n",
            ">269, 1/2, d=0.036, g=0.154\n",
            "4/4 [==============================] - 0s 41ms/step\n",
            ">269, 2/2, d=0.051, g=0.122\n",
            "4/4 [==============================] - 0s 41ms/step\n",
            ">270, 1/2, d=0.038, g=0.099\n",
            "16/16 [==============================] - 1s 43ms/step\n",
            ">Accuracy real: 100%, fake: 0%\n"
          ]
        },
        {
          "name": "stderr",
          "output_type": "stream",
          "text": [
            "WARNING:tensorflow:Compiled the loaded model, but the compiled metrics have yet to be built. `model.compile_metrics` will be empty until you train or evaluate the model.\n"
          ]
        },
        {
          "name": "stdout",
          "output_type": "stream",
          "text": [
            "4/4 [==============================] - 0s 62ms/step\n",
            ">270, 2/2, d=0.031, g=0.074\n",
            "16/16 [==============================] - 1s 43ms/step\n",
            ">Accuracy real: 100%, fake: 0%\n"
          ]
        },
        {
          "name": "stderr",
          "output_type": "stream",
          "text": [
            "WARNING:tensorflow:Compiled the loaded model, but the compiled metrics have yet to be built. `model.compile_metrics` will be empty until you train or evaluate the model.\n"
          ]
        },
        {
          "name": "stdout",
          "output_type": "stream",
          "text": [
            "4/4 [==============================] - 0s 57ms/step\n",
            ">271, 1/2, d=0.029, g=0.071\n",
            "4/4 [==============================] - 0s 41ms/step\n",
            ">271, 2/2, d=0.027, g=0.060\n",
            "4/4 [==============================] - 0s 41ms/step\n",
            ">272, 1/2, d=0.017, g=0.061\n",
            "4/4 [==============================] - 0s 41ms/step\n",
            ">272, 2/2, d=0.019, g=0.054\n",
            "4/4 [==============================] - 0s 41ms/step\n",
            ">273, 1/2, d=0.018, g=0.057\n",
            "4/4 [==============================] - 0s 41ms/step\n",
            ">273, 2/2, d=0.013, g=0.057\n",
            "4/4 [==============================] - 0s 42ms/step\n",
            ">274, 1/2, d=0.012, g=0.050\n",
            "4/4 [==============================] - 0s 42ms/step\n",
            ">274, 2/2, d=0.012, g=0.043\n",
            "4/4 [==============================] - 0s 41ms/step\n",
            ">275, 1/2, d=0.013, g=0.050\n",
            "4/4 [==============================] - 0s 41ms/step\n",
            ">275, 2/2, d=0.012, g=0.042\n",
            "4/4 [==============================] - 0s 42ms/step\n",
            ">276, 1/2, d=0.011, g=0.042\n",
            "4/4 [==============================] - 0s 42ms/step\n",
            ">276, 2/2, d=0.013, g=0.038\n",
            "4/4 [==============================] - 0s 42ms/step\n",
            ">277, 1/2, d=0.012, g=0.044\n",
            "4/4 [==============================] - 0s 42ms/step\n",
            ">277, 2/2, d=0.012, g=0.042\n",
            "4/4 [==============================] - 0s 41ms/step\n",
            ">278, 1/2, d=0.012, g=0.037\n",
            "4/4 [==============================] - 0s 42ms/step\n",
            ">278, 2/2, d=0.010, g=0.036\n",
            "4/4 [==============================] - 0s 42ms/step\n",
            ">279, 1/2, d=0.013, g=0.034\n",
            "4/4 [==============================] - 0s 42ms/step\n",
            ">279, 2/2, d=0.013, g=0.032\n",
            "4/4 [==============================] - 0s 42ms/step\n",
            ">280, 1/2, d=0.011, g=0.039\n",
            "16/16 [==============================] - 1s 43ms/step\n",
            ">Accuracy real: 100%, fake: 0%\n"
          ]
        },
        {
          "name": "stderr",
          "output_type": "stream",
          "text": [
            "WARNING:tensorflow:Compiled the loaded model, but the compiled metrics have yet to be built. `model.compile_metrics` will be empty until you train or evaluate the model.\n"
          ]
        },
        {
          "name": "stdout",
          "output_type": "stream",
          "text": [
            "4/4 [==============================] - 0s 62ms/step\n",
            ">280, 2/2, d=0.010, g=0.041\n",
            "16/16 [==============================] - 1s 43ms/step\n",
            ">Accuracy real: 100%, fake: 0%\n"
          ]
        },
        {
          "name": "stderr",
          "output_type": "stream",
          "text": [
            "WARNING:tensorflow:Compiled the loaded model, but the compiled metrics have yet to be built. `model.compile_metrics` will be empty until you train or evaluate the model.\n"
          ]
        },
        {
          "name": "stdout",
          "output_type": "stream",
          "text": [
            "4/4 [==============================] - 0s 60ms/step\n",
            ">281, 1/2, d=0.011, g=0.041\n",
            "4/4 [==============================] - 0s 41ms/step\n",
            ">281, 2/2, d=0.010, g=0.043\n",
            "4/4 [==============================] - 0s 41ms/step\n",
            ">282, 1/2, d=0.012, g=0.047\n",
            "4/4 [==============================] - 0s 41ms/step\n",
            ">282, 2/2, d=0.013, g=0.051\n",
            "4/4 [==============================] - 0s 41ms/step\n",
            ">283, 1/2, d=0.015, g=0.058\n",
            "4/4 [==============================] - 0s 41ms/step\n",
            ">283, 2/2, d=0.016, g=0.066\n",
            "4/4 [==============================] - 0s 41ms/step\n",
            ">284, 1/2, d=0.017, g=0.072\n",
            "4/4 [==============================] - 0s 41ms/step\n",
            ">284, 2/2, d=0.019, g=0.088\n",
            "4/4 [==============================] - 0s 42ms/step\n",
            ">285, 1/2, d=0.021, g=0.109\n",
            "4/4 [==============================] - 0s 42ms/step\n",
            ">285, 2/2, d=0.028, g=0.104\n",
            "4/4 [==============================] - 0s 41ms/step\n",
            ">286, 1/2, d=0.035, g=0.261\n",
            "4/4 [==============================] - 0s 42ms/step\n",
            ">286, 2/2, d=0.167, g=0.052\n",
            "4/4 [==============================] - 0s 41ms/step\n",
            ">287, 1/2, d=1.899, g=8.282\n",
            "4/4 [==============================] - 0s 41ms/step\n",
            ">287, 2/2, d=2.618, g=0.748\n",
            "4/4 [==============================] - 0s 41ms/step\n",
            ">288, 1/2, d=0.160, g=0.308\n",
            "4/4 [==============================] - 0s 42ms/step\n",
            ">288, 2/2, d=0.077, g=0.377\n",
            "4/4 [==============================] - 0s 41ms/step\n",
            ">289, 1/2, d=0.106, g=0.230\n",
            "4/4 [==============================] - 0s 41ms/step\n",
            ">289, 2/2, d=0.115, g=0.051\n",
            "4/4 [==============================] - 0s 42ms/step\n",
            ">290, 1/2, d=0.131, g=0.010\n",
            "16/16 [==============================] - 1s 44ms/step\n",
            ">Accuracy real: 100%, fake: 0%\n"
          ]
        },
        {
          "name": "stderr",
          "output_type": "stream",
          "text": [
            "WARNING:tensorflow:Compiled the loaded model, but the compiled metrics have yet to be built. `model.compile_metrics` will be empty until you train or evaluate the model.\n"
          ]
        },
        {
          "name": "stdout",
          "output_type": "stream",
          "text": [
            "4/4 [==============================] - 0s 62ms/step\n",
            ">290, 2/2, d=0.071, g=0.005\n",
            "16/16 [==============================] - 1s 43ms/step\n",
            ">Accuracy real: 100%, fake: 0%\n"
          ]
        },
        {
          "name": "stderr",
          "output_type": "stream",
          "text": [
            "WARNING:tensorflow:Compiled the loaded model, but the compiled metrics have yet to be built. `model.compile_metrics` will be empty until you train or evaluate the model.\n"
          ]
        },
        {
          "name": "stdout",
          "output_type": "stream",
          "text": [
            "4/4 [==============================] - 0s 56ms/step\n",
            ">291, 1/2, d=0.035, g=0.003\n",
            "4/4 [==============================] - 0s 41ms/step\n",
            ">291, 2/2, d=0.027, g=0.003\n",
            "4/4 [==============================] - 0s 41ms/step\n",
            ">292, 1/2, d=0.021, g=0.002\n",
            "4/4 [==============================] - 0s 41ms/step\n",
            ">292, 2/2, d=0.015, g=0.002\n",
            "4/4 [==============================] - 0s 41ms/step\n",
            ">293, 1/2, d=0.015, g=0.002\n",
            "4/4 [==============================] - 0s 41ms/step\n",
            ">293, 2/2, d=0.011, g=0.002\n",
            "4/4 [==============================] - 0s 41ms/step\n",
            ">294, 1/2, d=0.010, g=0.003\n",
            "4/4 [==============================] - 0s 41ms/step\n",
            ">294, 2/2, d=0.008, g=0.003\n",
            "4/4 [==============================] - 0s 41ms/step\n",
            ">295, 1/2, d=0.009, g=0.002\n",
            "4/4 [==============================] - 0s 41ms/step\n",
            ">295, 2/2, d=0.009, g=0.003\n",
            "4/4 [==============================] - 0s 41ms/step\n",
            ">296, 1/2, d=0.007, g=0.003\n",
            "4/4 [==============================] - 0s 42ms/step\n",
            ">296, 2/2, d=0.007, g=0.003\n",
            "4/4 [==============================] - 0s 42ms/step\n",
            ">297, 1/2, d=0.008, g=0.003\n",
            "4/4 [==============================] - 0s 42ms/step\n",
            ">297, 2/2, d=0.008, g=0.002\n",
            "4/4 [==============================] - 0s 41ms/step\n",
            ">298, 1/2, d=0.006, g=0.003\n",
            "4/4 [==============================] - 0s 42ms/step\n",
            ">298, 2/2, d=0.006, g=0.003\n",
            "4/4 [==============================] - 0s 41ms/step\n",
            ">299, 1/2, d=0.007, g=0.003\n",
            "4/4 [==============================] - 0s 42ms/step\n",
            ">299, 2/2, d=0.006, g=0.002\n",
            "4/4 [==============================] - 0s 42ms/step\n",
            ">300, 1/2, d=0.007, g=0.003\n",
            "16/16 [==============================] - 1s 44ms/step\n",
            ">Accuracy real: 100%, fake: 0%\n"
          ]
        },
        {
          "name": "stderr",
          "output_type": "stream",
          "text": [
            "WARNING:tensorflow:Compiled the loaded model, but the compiled metrics have yet to be built. `model.compile_metrics` will be empty until you train or evaluate the model.\n"
          ]
        },
        {
          "name": "stdout",
          "output_type": "stream",
          "text": [
            "4/4 [==============================] - 0s 58ms/step\n",
            ">300, 2/2, d=0.005, g=0.003\n",
            "16/16 [==============================] - 1s 43ms/step\n",
            ">Accuracy real: 100%, fake: 0%\n"
          ]
        },
        {
          "name": "stderr",
          "output_type": "stream",
          "text": [
            "WARNING:tensorflow:Compiled the loaded model, but the compiled metrics have yet to be built. `model.compile_metrics` will be empty until you train or evaluate the model.\n"
          ]
        },
        {
          "name": "stdout",
          "output_type": "stream",
          "text": [
            "4/4 [==============================] - 0s 62ms/step\n",
            ">301, 1/2, d=0.006, g=0.003\n",
            "4/4 [==============================] - 0s 41ms/step\n",
            ">301, 2/2, d=0.006, g=0.003\n",
            "4/4 [==============================] - 0s 41ms/step\n",
            ">302, 1/2, d=0.006, g=0.003\n",
            "4/4 [==============================] - 0s 41ms/step\n",
            ">302, 2/2, d=0.006, g=0.003\n",
            "4/4 [==============================] - 0s 41ms/step\n",
            ">303, 1/2, d=0.006, g=0.003\n",
            "4/4 [==============================] - 0s 41ms/step\n",
            ">303, 2/2, d=0.005, g=0.003\n",
            "4/4 [==============================] - 0s 41ms/step\n",
            ">304, 1/2, d=0.006, g=0.003\n",
            "4/4 [==============================] - 0s 41ms/step\n",
            ">304, 2/2, d=0.005, g=0.003\n",
            "4/4 [==============================] - 0s 42ms/step\n",
            ">305, 1/2, d=0.005, g=0.003\n",
            "4/4 [==============================] - 0s 41ms/step\n",
            ">305, 2/2, d=0.007, g=0.003\n",
            "4/4 [==============================] - 0s 41ms/step\n",
            ">306, 1/2, d=0.005, g=0.003\n",
            "4/4 [==============================] - 0s 42ms/step\n",
            ">306, 2/2, d=0.004, g=0.003\n",
            "4/4 [==============================] - 0s 42ms/step\n",
            ">307, 1/2, d=0.005, g=0.003\n",
            "4/4 [==============================] - 0s 41ms/step\n",
            ">307, 2/2, d=0.006, g=0.003\n",
            "4/4 [==============================] - 0s 42ms/step\n",
            ">308, 1/2, d=0.005, g=0.003\n",
            "4/4 [==============================] - 0s 41ms/step\n",
            ">308, 2/2, d=0.004, g=0.003\n",
            "4/4 [==============================] - 0s 42ms/step\n",
            ">309, 1/2, d=0.004, g=0.003\n",
            "4/4 [==============================] - 0s 42ms/step\n",
            ">309, 2/2, d=0.004, g=0.003\n",
            "4/4 [==============================] - 0s 41ms/step\n",
            ">310, 1/2, d=0.005, g=0.003\n",
            "16/16 [==============================] - 1s 44ms/step\n",
            ">Accuracy real: 100%, fake: 0%\n"
          ]
        },
        {
          "name": "stderr",
          "output_type": "stream",
          "text": [
            "WARNING:tensorflow:Compiled the loaded model, but the compiled metrics have yet to be built. `model.compile_metrics` will be empty until you train or evaluate the model.\n"
          ]
        },
        {
          "name": "stdout",
          "output_type": "stream",
          "text": [
            "4/4 [==============================] - 0s 62ms/step\n",
            ">310, 2/2, d=0.004, g=0.003\n",
            "16/16 [==============================] - 1s 43ms/step\n",
            ">Accuracy real: 100%, fake: 0%\n"
          ]
        },
        {
          "name": "stderr",
          "output_type": "stream",
          "text": [
            "WARNING:tensorflow:Compiled the loaded model, but the compiled metrics have yet to be built. `model.compile_metrics` will be empty until you train or evaluate the model.\n"
          ]
        },
        {
          "name": "stdout",
          "output_type": "stream",
          "text": [
            "4/4 [==============================] - 0s 62ms/step\n",
            ">311, 1/2, d=0.005, g=0.003\n",
            "4/4 [==============================] - 0s 41ms/step\n",
            ">311, 2/2, d=0.004, g=0.003\n",
            "4/4 [==============================] - 0s 41ms/step\n",
            ">312, 1/2, d=0.005, g=0.003\n",
            "4/4 [==============================] - 0s 41ms/step\n",
            ">312, 2/2, d=0.005, g=0.003\n",
            "4/4 [==============================] - 0s 41ms/step\n",
            ">313, 1/2, d=0.004, g=0.003\n",
            "4/4 [==============================] - 0s 41ms/step\n",
            ">313, 2/2, d=0.005, g=0.003\n",
            "4/4 [==============================] - 0s 41ms/step\n",
            ">314, 1/2, d=0.005, g=0.003\n",
            "4/4 [==============================] - 0s 41ms/step\n",
            ">314, 2/2, d=0.005, g=0.003\n",
            "4/4 [==============================] - 0s 41ms/step\n",
            ">315, 1/2, d=0.005, g=0.003\n",
            "4/4 [==============================] - 0s 41ms/step\n",
            ">315, 2/2, d=0.004, g=0.003\n",
            "4/4 [==============================] - 0s 41ms/step\n",
            ">316, 1/2, d=0.004, g=0.002\n",
            "4/4 [==============================] - 0s 42ms/step\n",
            ">316, 2/2, d=0.004, g=0.003\n",
            "4/4 [==============================] - 0s 42ms/step\n",
            ">317, 1/2, d=0.005, g=0.003\n",
            "4/4 [==============================] - 0s 41ms/step\n",
            ">317, 2/2, d=0.004, g=0.003\n",
            "4/4 [==============================] - 0s 41ms/step\n",
            ">318, 1/2, d=0.004, g=0.003\n",
            "4/4 [==============================] - 0s 42ms/step\n",
            ">318, 2/2, d=0.004, g=0.002\n",
            "4/4 [==============================] - 0s 42ms/step\n",
            ">319, 1/2, d=0.004, g=0.003\n",
            "4/4 [==============================] - 0s 42ms/step\n",
            ">319, 2/2, d=0.004, g=0.002\n",
            "4/4 [==============================] - 0s 42ms/step\n",
            ">320, 1/2, d=0.005, g=0.003\n",
            "16/16 [==============================] - 1s 44ms/step\n",
            ">Accuracy real: 100%, fake: 0%\n"
          ]
        },
        {
          "name": "stderr",
          "output_type": "stream",
          "text": [
            "WARNING:tensorflow:Compiled the loaded model, but the compiled metrics have yet to be built. `model.compile_metrics` will be empty until you train or evaluate the model.\n"
          ]
        },
        {
          "name": "stdout",
          "output_type": "stream",
          "text": [
            "4/4 [==============================] - 0s 62ms/step\n",
            ">320, 2/2, d=0.005, g=0.003\n",
            "16/16 [==============================] - 1s 43ms/step\n",
            ">Accuracy real: 100%, fake: 0%\n"
          ]
        },
        {
          "name": "stderr",
          "output_type": "stream",
          "text": [
            "WARNING:tensorflow:Compiled the loaded model, but the compiled metrics have yet to be built. `model.compile_metrics` will be empty until you train or evaluate the model.\n"
          ]
        },
        {
          "name": "stdout",
          "output_type": "stream",
          "text": [
            "4/4 [==============================] - 0s 62ms/step\n",
            ">321, 1/2, d=0.005, g=0.003\n",
            "4/4 [==============================] - 0s 41ms/step\n",
            ">321, 2/2, d=0.005, g=0.003\n",
            "4/4 [==============================] - 0s 41ms/step\n",
            ">322, 1/2, d=0.004, g=0.003\n",
            "4/4 [==============================] - 0s 41ms/step\n",
            ">322, 2/2, d=0.005, g=0.003\n",
            "4/4 [==============================] - 0s 42ms/step\n",
            ">323, 1/2, d=0.005, g=0.003\n",
            "4/4 [==============================] - 0s 41ms/step\n",
            ">323, 2/2, d=0.004, g=0.002\n",
            "4/4 [==============================] - 0s 42ms/step\n",
            ">324, 1/2, d=0.005, g=0.003\n",
            "4/4 [==============================] - 0s 41ms/step\n",
            ">324, 2/2, d=0.005, g=0.003\n",
            "4/4 [==============================] - 0s 41ms/step\n",
            ">325, 1/2, d=0.004, g=0.003\n",
            "4/4 [==============================] - 0s 41ms/step\n",
            ">325, 2/2, d=0.004, g=0.003\n",
            "4/4 [==============================] - 0s 41ms/step\n",
            ">326, 1/2, d=0.004, g=0.002\n",
            "4/4 [==============================] - 0s 42ms/step\n",
            ">326, 2/2, d=0.004, g=0.002\n",
            "4/4 [==============================] - 0s 41ms/step\n",
            ">327, 1/2, d=0.005, g=0.003\n",
            "4/4 [==============================] - 0s 42ms/step\n",
            ">327, 2/2, d=0.005, g=0.002\n",
            "4/4 [==============================] - 0s 41ms/step\n",
            ">328, 1/2, d=0.004, g=0.003\n",
            "4/4 [==============================] - 0s 42ms/step\n",
            ">328, 2/2, d=0.005, g=0.003\n",
            "4/4 [==============================] - 0s 41ms/step\n",
            ">329, 1/2, d=0.005, g=0.003\n",
            "4/4 [==============================] - 0s 42ms/step\n",
            ">329, 2/2, d=0.005, g=0.002\n",
            "4/4 [==============================] - 0s 41ms/step\n",
            ">330, 1/2, d=0.004, g=0.003\n",
            "16/16 [==============================] - 1s 44ms/step\n",
            ">Accuracy real: 100%, fake: 0%\n"
          ]
        },
        {
          "name": "stderr",
          "output_type": "stream",
          "text": [
            "WARNING:tensorflow:Compiled the loaded model, but the compiled metrics have yet to be built. `model.compile_metrics` will be empty until you train or evaluate the model.\n"
          ]
        },
        {
          "name": "stdout",
          "output_type": "stream",
          "text": [
            "4/4 [==============================] - 0s 62ms/step\n",
            ">330, 2/2, d=0.004, g=0.003\n",
            "16/16 [==============================] - 1s 43ms/step\n",
            ">Accuracy real: 100%, fake: 0%\n"
          ]
        },
        {
          "name": "stderr",
          "output_type": "stream",
          "text": [
            "WARNING:tensorflow:Compiled the loaded model, but the compiled metrics have yet to be built. `model.compile_metrics` will be empty until you train or evaluate the model.\n"
          ]
        },
        {
          "name": "stdout",
          "output_type": "stream",
          "text": [
            "4/4 [==============================] - 0s 61ms/step\n",
            ">331, 1/2, d=0.005, g=0.002\n",
            "4/4 [==============================] - 0s 41ms/step\n",
            ">331, 2/2, d=0.004, g=0.002\n",
            "4/4 [==============================] - 0s 41ms/step\n",
            ">332, 1/2, d=0.004, g=0.002\n",
            "4/4 [==============================] - 0s 41ms/step\n",
            ">332, 2/2, d=0.004, g=0.003\n",
            "4/4 [==============================] - 0s 41ms/step\n",
            ">333, 1/2, d=0.004, g=0.002\n",
            "4/4 [==============================] - 0s 41ms/step\n",
            ">333, 2/2, d=0.004, g=0.003\n",
            "4/4 [==============================] - 0s 41ms/step\n",
            ">334, 1/2, d=0.004, g=0.003\n",
            "4/4 [==============================] - 0s 41ms/step\n",
            ">334, 2/2, d=0.004, g=0.003\n",
            "4/4 [==============================] - 0s 41ms/step\n",
            ">335, 1/2, d=0.004, g=0.003\n",
            "4/4 [==============================] - 0s 41ms/step\n",
            ">335, 2/2, d=0.004, g=0.003\n",
            "4/4 [==============================] - 0s 41ms/step\n",
            ">336, 1/2, d=0.004, g=0.003\n",
            "4/4 [==============================] - 0s 41ms/step\n",
            ">336, 2/2, d=0.005, g=0.003\n",
            "4/4 [==============================] - 0s 42ms/step\n",
            ">337, 1/2, d=0.005, g=0.003\n",
            "4/4 [==============================] - 0s 41ms/step\n",
            ">337, 2/2, d=0.005, g=0.003\n",
            "4/4 [==============================] - 0s 42ms/step\n",
            ">338, 1/2, d=0.004, g=0.003\n",
            "4/4 [==============================] - 0s 41ms/step\n",
            ">338, 2/2, d=0.004, g=0.003\n",
            "4/4 [==============================] - 0s 42ms/step\n",
            ">339, 1/2, d=0.004, g=0.003\n",
            "4/4 [==============================] - 0s 41ms/step\n",
            ">339, 2/2, d=0.004, g=0.003\n",
            "4/4 [==============================] - 0s 42ms/step\n",
            ">340, 1/2, d=0.004, g=0.003\n",
            "16/16 [==============================] - 1s 44ms/step\n",
            ">Accuracy real: 100%, fake: 0%\n"
          ]
        },
        {
          "name": "stderr",
          "output_type": "stream",
          "text": [
            "WARNING:tensorflow:Compiled the loaded model, but the compiled metrics have yet to be built. `model.compile_metrics` will be empty until you train or evaluate the model.\n"
          ]
        },
        {
          "name": "stdout",
          "output_type": "stream",
          "text": [
            "4/4 [==============================] - 0s 61ms/step\n",
            ">340, 2/2, d=0.004, g=0.003\n",
            "16/16 [==============================] - 1s 43ms/step\n",
            ">Accuracy real: 100%, fake: 0%\n"
          ]
        },
        {
          "name": "stderr",
          "output_type": "stream",
          "text": [
            "WARNING:tensorflow:Compiled the loaded model, but the compiled metrics have yet to be built. `model.compile_metrics` will be empty until you train or evaluate the model.\n"
          ]
        },
        {
          "name": "stdout",
          "output_type": "stream",
          "text": [
            "4/4 [==============================] - 0s 57ms/step\n",
            ">341, 1/2, d=0.004, g=0.003\n",
            "4/4 [==============================] - 0s 41ms/step\n",
            ">341, 2/2, d=0.005, g=0.003\n",
            "4/4 [==============================] - 0s 41ms/step\n",
            ">342, 1/2, d=0.004, g=0.003\n",
            "4/4 [==============================] - 0s 41ms/step\n",
            ">342, 2/2, d=0.003, g=0.003\n",
            "4/4 [==============================] - 0s 41ms/step\n",
            ">343, 1/2, d=0.004, g=0.003\n",
            "4/4 [==============================] - 0s 41ms/step\n",
            ">343, 2/2, d=0.004, g=0.003\n",
            "4/4 [==============================] - 0s 41ms/step\n",
            ">344, 1/2, d=0.004, g=0.003\n",
            "4/4 [==============================] - 0s 41ms/step\n",
            ">344, 2/2, d=0.003, g=0.004\n",
            "4/4 [==============================] - 0s 41ms/step\n",
            ">345, 1/2, d=0.004, g=0.004\n",
            "4/4 [==============================] - 0s 42ms/step\n",
            ">345, 2/2, d=0.004, g=0.003\n",
            "4/4 [==============================] - 0s 41ms/step\n",
            ">346, 1/2, d=0.004, g=0.003\n",
            "4/4 [==============================] - 0s 42ms/step\n",
            ">346, 2/2, d=0.004, g=0.004\n",
            "4/4 [==============================] - 0s 41ms/step\n",
            ">347, 1/2, d=0.004, g=0.004\n",
            "4/4 [==============================] - 0s 42ms/step\n",
            ">347, 2/2, d=0.004, g=0.004\n",
            "4/4 [==============================] - 0s 42ms/step\n",
            ">348, 1/2, d=0.004, g=0.004\n",
            "4/4 [==============================] - 0s 41ms/step\n",
            ">348, 2/2, d=0.004, g=0.004\n",
            "4/4 [==============================] - 0s 42ms/step\n",
            ">349, 1/2, d=0.004, g=0.004\n",
            "4/4 [==============================] - 0s 42ms/step\n",
            ">349, 2/2, d=0.004, g=0.004\n",
            "4/4 [==============================] - 0s 42ms/step\n",
            ">350, 1/2, d=0.003, g=0.004\n",
            "16/16 [==============================] - 1s 44ms/step\n",
            ">Accuracy real: 100%, fake: 0%\n"
          ]
        },
        {
          "name": "stderr",
          "output_type": "stream",
          "text": [
            "WARNING:tensorflow:Compiled the loaded model, but the compiled metrics have yet to be built. `model.compile_metrics` will be empty until you train or evaluate the model.\n"
          ]
        },
        {
          "name": "stdout",
          "output_type": "stream",
          "text": [
            "4/4 [==============================] - 0s 62ms/step\n",
            ">350, 2/2, d=0.004, g=0.004\n",
            "16/16 [==============================] - 1s 43ms/step\n",
            ">Accuracy real: 100%, fake: 0%\n"
          ]
        },
        {
          "name": "stderr",
          "output_type": "stream",
          "text": [
            "WARNING:tensorflow:Compiled the loaded model, but the compiled metrics have yet to be built. `model.compile_metrics` will be empty until you train or evaluate the model.\n"
          ]
        },
        {
          "name": "stdout",
          "output_type": "stream",
          "text": [
            "4/4 [==============================] - 0s 62ms/step\n",
            ">351, 1/2, d=0.004, g=0.005\n",
            "4/4 [==============================] - 0s 40ms/step\n",
            ">351, 2/2, d=0.004, g=0.005\n",
            "4/4 [==============================] - 0s 41ms/step\n",
            ">352, 1/2, d=0.004, g=0.005\n",
            "4/4 [==============================] - 0s 41ms/step\n",
            ">352, 2/2, d=0.004, g=0.005\n",
            "4/4 [==============================] - 0s 41ms/step\n",
            ">353, 1/2, d=0.003, g=0.004\n",
            "4/4 [==============================] - 0s 41ms/step\n",
            ">353, 2/2, d=0.004, g=0.005\n",
            "4/4 [==============================] - 0s 41ms/step\n",
            ">354, 1/2, d=0.004, g=0.005\n",
            "4/4 [==============================] - 0s 41ms/step\n",
            ">354, 2/2, d=0.003, g=0.005\n",
            "4/4 [==============================] - 0s 41ms/step\n",
            ">355, 1/2, d=0.003, g=0.005\n",
            "4/4 [==============================] - 0s 41ms/step\n",
            ">355, 2/2, d=0.003, g=0.005\n",
            "4/4 [==============================] - 0s 42ms/step\n",
            ">356, 1/2, d=0.003, g=0.005\n",
            "4/4 [==============================] - 0s 41ms/step\n",
            ">356, 2/2, d=0.004, g=0.006\n",
            "4/4 [==============================] - 0s 42ms/step\n",
            ">357, 1/2, d=0.004, g=0.006\n",
            "4/4 [==============================] - 0s 41ms/step\n",
            ">357, 2/2, d=0.005, g=0.007\n",
            "4/4 [==============================] - 0s 42ms/step\n",
            ">358, 1/2, d=0.004, g=0.007\n",
            "4/4 [==============================] - 0s 42ms/step\n",
            ">358, 2/2, d=0.005, g=0.007\n",
            "4/4 [==============================] - 0s 42ms/step\n",
            ">359, 1/2, d=0.004, g=0.007\n",
            "4/4 [==============================] - 0s 42ms/step\n",
            ">359, 2/2, d=0.005, g=0.008\n",
            "4/4 [==============================] - 0s 42ms/step\n",
            ">360, 1/2, d=0.005, g=0.009\n",
            "16/16 [==============================] - 1s 43ms/step\n",
            ">Accuracy real: 100%, fake: 0%\n"
          ]
        },
        {
          "name": "stderr",
          "output_type": "stream",
          "text": [
            "WARNING:tensorflow:Compiled the loaded model, but the compiled metrics have yet to be built. `model.compile_metrics` will be empty until you train or evaluate the model.\n"
          ]
        },
        {
          "name": "stdout",
          "output_type": "stream",
          "text": [
            "4/4 [==============================] - 0s 58ms/step\n",
            ">360, 2/2, d=0.006, g=0.010\n",
            "16/16 [==============================] - 1s 43ms/step\n",
            ">Accuracy real: 100%, fake: 0%\n"
          ]
        },
        {
          "name": "stderr",
          "output_type": "stream",
          "text": [
            "WARNING:tensorflow:Compiled the loaded model, but the compiled metrics have yet to be built. `model.compile_metrics` will be empty until you train or evaluate the model.\n"
          ]
        },
        {
          "name": "stdout",
          "output_type": "stream",
          "text": [
            "4/4 [==============================] - 0s 60ms/step\n",
            ">361, 1/2, d=0.007, g=0.012\n",
            "4/4 [==============================] - 0s 41ms/step\n",
            ">361, 2/2, d=0.008, g=0.016\n",
            "4/4 [==============================] - 0s 41ms/step\n",
            ">362, 1/2, d=0.009, g=0.020\n",
            "4/4 [==============================] - 0s 41ms/step\n",
            ">362, 2/2, d=0.013, g=0.041\n",
            "4/4 [==============================] - 0s 41ms/step\n",
            ">363, 1/2, d=0.023, g=0.031\n",
            "4/4 [==============================] - 0s 41ms/step\n",
            ">363, 2/2, d=0.032, g=1.139\n",
            "4/4 [==============================] - 0s 42ms/step\n",
            ">364, 1/2, d=1.378, g=16.006\n",
            "4/4 [==============================] - 0s 41ms/step\n",
            ">364, 2/2, d=3.214, g=0.000\n",
            "4/4 [==============================] - 0s 41ms/step\n",
            ">365, 1/2, d=0.230, g=0.000\n",
            "4/4 [==============================] - 0s 41ms/step\n",
            ">365, 2/2, d=0.088, g=0.000\n",
            "4/4 [==============================] - 0s 40ms/step\n",
            ">366, 1/2, d=0.041, g=0.003\n",
            "4/4 [==============================] - 0s 41ms/step\n",
            ">366, 2/2, d=0.026, g=0.031\n",
            "4/4 [==============================] - 0s 41ms/step\n",
            ">367, 1/2, d=0.020, g=0.129\n",
            "4/4 [==============================] - 0s 41ms/step\n",
            ">367, 2/2, d=0.017, g=0.305\n",
            "4/4 [==============================] - 0s 41ms/step\n",
            ">368, 1/2, d=0.015, g=0.523\n",
            "4/4 [==============================] - 0s 41ms/step\n",
            ">368, 2/2, d=0.014, g=0.772\n",
            "4/4 [==============================] - 0s 41ms/step\n",
            ">369, 1/2, d=0.014, g=1.047\n",
            "4/4 [==============================] - 0s 41ms/step\n",
            ">369, 2/2, d=0.013, g=1.328\n",
            "4/4 [==============================] - 0s 41ms/step\n",
            ">370, 1/2, d=0.014, g=1.562\n",
            "16/16 [==============================] - 1s 43ms/step\n",
            ">Accuracy real: 100%, fake: 100%\n"
          ]
        },
        {
          "name": "stderr",
          "output_type": "stream",
          "text": [
            "WARNING:tensorflow:Compiled the loaded model, but the compiled metrics have yet to be built. `model.compile_metrics` will be empty until you train or evaluate the model.\n"
          ]
        },
        {
          "name": "stdout",
          "output_type": "stream",
          "text": [
            "4/4 [==============================] - 0s 62ms/step\n",
            ">370, 2/2, d=0.017, g=1.767\n",
            "16/16 [==============================] - 1s 43ms/step\n",
            ">Accuracy real: 100%, fake: 100%\n"
          ]
        },
        {
          "name": "stderr",
          "output_type": "stream",
          "text": [
            "WARNING:tensorflow:Compiled the loaded model, but the compiled metrics have yet to be built. `model.compile_metrics` will be empty until you train or evaluate the model.\n"
          ]
        },
        {
          "name": "stdout",
          "output_type": "stream",
          "text": [
            "4/4 [==============================] - 0s 61ms/step\n",
            ">371, 1/2, d=0.019, g=1.890\n",
            "4/4 [==============================] - 0s 40ms/step\n",
            ">371, 2/2, d=0.031, g=1.932\n",
            "4/4 [==============================] - 0s 41ms/step\n",
            ">372, 1/2, d=0.048, g=2.003\n",
            "4/4 [==============================] - 0s 41ms/step\n",
            ">372, 2/2, d=0.138, g=2.169\n",
            "4/4 [==============================] - 0s 41ms/step\n",
            ">373, 1/2, d=0.265, g=2.196\n",
            "4/4 [==============================] - 0s 41ms/step\n",
            ">373, 2/2, d=0.510, g=2.068\n",
            "4/4 [==============================] - 0s 41ms/step\n",
            ">374, 1/2, d=0.766, g=2.620\n",
            "4/4 [==============================] - 0s 41ms/step\n",
            ">374, 2/2, d=0.328, g=5.651\n",
            "4/4 [==============================] - 0s 41ms/step\n",
            ">375, 1/2, d=0.122, g=3.837\n",
            "4/4 [==============================] - 0s 41ms/step\n",
            ">375, 2/2, d=0.122, g=1.559\n",
            "4/4 [==============================] - 0s 41ms/step\n",
            ">376, 1/2, d=0.108, g=1.005\n",
            "4/4 [==============================] - 0s 41ms/step\n",
            ">376, 2/2, d=0.062, g=1.197\n",
            "4/4 [==============================] - 0s 42ms/step\n",
            ">377, 1/2, d=0.053, g=1.488\n",
            "4/4 [==============================] - 0s 41ms/step\n",
            ">377, 2/2, d=0.099, g=1.831\n",
            "4/4 [==============================] - 0s 41ms/step\n",
            ">378, 1/2, d=0.212, g=2.611\n",
            "4/4 [==============================] - 0s 41ms/step\n",
            ">378, 2/2, d=0.383, g=1.735\n",
            "4/4 [==============================] - 0s 41ms/step\n",
            ">379, 1/2, d=0.763, g=0.406\n",
            "4/4 [==============================] - 0s 42ms/step\n",
            ">379, 2/2, d=0.620, g=0.583\n",
            "4/4 [==============================] - 0s 41ms/step\n",
            ">380, 1/2, d=0.339, g=2.556\n",
            "16/16 [==============================] - 1s 43ms/step\n",
            ">Accuracy real: 98%, fake: 0%\n"
          ]
        },
        {
          "name": "stderr",
          "output_type": "stream",
          "text": [
            "WARNING:tensorflow:Compiled the loaded model, but the compiled metrics have yet to be built. `model.compile_metrics` will be empty until you train or evaluate the model.\n"
          ]
        },
        {
          "name": "stdout",
          "output_type": "stream",
          "text": [
            "4/4 [==============================] - 0s 62ms/step\n",
            ">380, 2/2, d=0.329, g=2.229\n",
            "16/16 [==============================] - 1s 43ms/step\n",
            ">Accuracy real: 57%, fake: 0%\n"
          ]
        },
        {
          "name": "stderr",
          "output_type": "stream",
          "text": [
            "WARNING:tensorflow:Compiled the loaded model, but the compiled metrics have yet to be built. `model.compile_metrics` will be empty until you train or evaluate the model.\n"
          ]
        },
        {
          "name": "stdout",
          "output_type": "stream",
          "text": [
            "4/4 [==============================] - 0s 62ms/step\n",
            ">381, 1/2, d=0.377, g=1.215\n",
            "4/4 [==============================] - 0s 42ms/step\n",
            ">381, 2/2, d=0.489, g=0.600\n",
            "4/4 [==============================] - 0s 41ms/step\n",
            ">382, 1/2, d=0.460, g=1.048\n",
            "4/4 [==============================] - 0s 41ms/step\n",
            ">382, 2/2, d=0.444, g=0.981\n",
            "4/4 [==============================] - 0s 42ms/step\n",
            ">383, 1/2, d=0.461, g=1.799\n",
            "4/4 [==============================] - 0s 41ms/step\n",
            ">383, 2/2, d=0.541, g=0.515\n",
            "4/4 [==============================] - 0s 41ms/step\n",
            ">384, 1/2, d=0.517, g=4.997\n",
            "4/4 [==============================] - 0s 41ms/step\n",
            ">384, 2/2, d=0.681, g=1.119\n",
            "4/4 [==============================] - 0s 41ms/step\n",
            ">385, 1/2, d=1.132, g=4.178\n",
            "4/4 [==============================] - 0s 41ms/step\n",
            ">385, 2/2, d=1.083, g=0.144\n",
            "4/4 [==============================] - 0s 41ms/step\n",
            ">386, 1/2, d=0.503, g=1.069\n",
            "4/4 [==============================] - 0s 41ms/step\n",
            ">386, 2/2, d=0.144, g=2.081\n",
            "4/4 [==============================] - 0s 41ms/step\n",
            ">387, 1/2, d=0.307, g=1.578\n",
            "4/4 [==============================] - 0s 41ms/step\n",
            ">387, 2/2, d=0.573, g=4.411\n",
            "4/4 [==============================] - 0s 41ms/step\n",
            ">388, 1/2, d=0.285, g=3.928\n",
            "4/4 [==============================] - 0s 41ms/step\n",
            ">388, 2/2, d=0.305, g=4.912\n",
            "4/4 [==============================] - 0s 42ms/step\n",
            ">389, 1/2, d=0.372, g=7.760\n",
            "4/4 [==============================] - 0s 41ms/step\n",
            ">389, 2/2, d=0.238, g=7.658\n",
            "4/4 [==============================] - 0s 42ms/step\n",
            ">390, 1/2, d=0.270, g=8.697\n",
            "16/16 [==============================] - 1s 43ms/step\n",
            ">Accuracy real: 0%, fake: 100%\n"
          ]
        },
        {
          "name": "stderr",
          "output_type": "stream",
          "text": [
            "WARNING:tensorflow:Compiled the loaded model, but the compiled metrics have yet to be built. `model.compile_metrics` will be empty until you train or evaluate the model.\n"
          ]
        },
        {
          "name": "stdout",
          "output_type": "stream",
          "text": [
            "4/4 [==============================] - 0s 62ms/step\n",
            ">390, 2/2, d=0.256, g=7.319\n",
            "16/16 [==============================] - 1s 43ms/step\n",
            ">Accuracy real: 0%, fake: 95%\n"
          ]
        },
        {
          "name": "stderr",
          "output_type": "stream",
          "text": [
            "WARNING:tensorflow:Compiled the loaded model, but the compiled metrics have yet to be built. `model.compile_metrics` will be empty until you train or evaluate the model.\n"
          ]
        },
        {
          "name": "stdout",
          "output_type": "stream",
          "text": [
            "4/4 [==============================] - 0s 57ms/step\n",
            ">391, 1/2, d=0.472, g=5.370\n",
            "4/4 [==============================] - 0s 40ms/step\n",
            ">391, 2/2, d=0.571, g=5.312\n",
            "4/4 [==============================] - 0s 41ms/step\n",
            ">392, 1/2, d=0.484, g=5.796\n",
            "4/4 [==============================] - 0s 41ms/step\n",
            ">392, 2/2, d=1.058, g=2.615\n",
            "4/4 [==============================] - 0s 40ms/step\n",
            ">393, 1/2, d=1.427, g=0.810\n",
            "4/4 [==============================] - 0s 41ms/step\n",
            ">393, 2/2, d=1.065, g=0.160\n",
            "4/4 [==============================] - 0s 41ms/step\n",
            ">394, 1/2, d=0.277, g=0.315\n",
            "4/4 [==============================] - 0s 41ms/step\n",
            ">394, 2/2, d=0.114, g=0.772\n",
            "4/4 [==============================] - 0s 41ms/step\n",
            ">395, 1/2, d=0.115, g=0.481\n",
            "4/4 [==============================] - 0s 42ms/step\n",
            ">395, 2/2, d=0.125, g=0.459\n",
            "4/4 [==============================] - 0s 42ms/step\n",
            ">396, 1/2, d=0.194, g=0.604\n",
            "4/4 [==============================] - 0s 42ms/step\n",
            ">396, 2/2, d=0.245, g=0.803\n",
            "4/4 [==============================] - 0s 42ms/step\n",
            ">397, 1/2, d=0.309, g=0.440\n",
            "4/4 [==============================] - 0s 41ms/step\n",
            ">397, 2/2, d=0.446, g=1.119\n",
            "4/4 [==============================] - 0s 42ms/step\n",
            ">398, 1/2, d=0.758, g=0.069\n",
            "4/4 [==============================] - 0s 41ms/step\n",
            ">398, 2/2, d=0.485, g=1.206\n",
            "4/4 [==============================] - 0s 42ms/step\n",
            ">399, 1/2, d=0.278, g=0.495\n",
            "4/4 [==============================] - 0s 42ms/step\n",
            ">399, 2/2, d=0.211, g=0.142\n",
            "4/4 [==============================] - 0s 42ms/step\n",
            ">400, 1/2, d=0.173, g=0.176\n",
            "16/16 [==============================] - 1s 44ms/step\n",
            ">Accuracy real: 100%, fake: 0%\n"
          ]
        },
        {
          "name": "stderr",
          "output_type": "stream",
          "text": [
            "WARNING:tensorflow:Compiled the loaded model, but the compiled metrics have yet to be built. `model.compile_metrics` will be empty until you train or evaluate the model.\n"
          ]
        },
        {
          "name": "stdout",
          "output_type": "stream",
          "text": [
            "4/4 [==============================] - 0s 57ms/step\n",
            ">400, 2/2, d=0.113, g=0.120\n",
            "16/16 [==============================] - 1s 43ms/step\n",
            ">Accuracy real: 100%, fake: 0%\n"
          ]
        },
        {
          "name": "stderr",
          "output_type": "stream",
          "text": [
            "WARNING:tensorflow:Compiled the loaded model, but the compiled metrics have yet to be built. `model.compile_metrics` will be empty until you train or evaluate the model.\n"
          ]
        },
        {
          "name": "stdout",
          "output_type": "stream",
          "text": [
            "4/4 [==============================] - 0s 60ms/step\n",
            ">401, 1/2, d=0.081, g=0.088\n",
            "4/4 [==============================] - 0s 41ms/step\n",
            ">401, 2/2, d=0.066, g=0.092\n",
            "4/4 [==============================] - 0s 41ms/step\n",
            ">402, 1/2, d=0.060, g=0.097\n",
            "4/4 [==============================] - 0s 41ms/step\n",
            ">402, 2/2, d=0.052, g=0.098\n",
            "4/4 [==============================] - 0s 41ms/step\n",
            ">403, 1/2, d=0.049, g=0.109\n",
            "4/4 [==============================] - 0s 41ms/step\n",
            ">403, 2/2, d=0.050, g=0.100\n",
            "4/4 [==============================] - 0s 41ms/step\n",
            ">404, 1/2, d=0.050, g=0.082\n",
            "4/4 [==============================] - 0s 41ms/step\n",
            ">404, 2/2, d=0.054, g=0.075\n",
            "4/4 [==============================] - 0s 41ms/step\n",
            ">405, 1/2, d=0.048, g=0.071\n",
            "4/4 [==============================] - 0s 41ms/step\n",
            ">405, 2/2, d=0.047, g=0.070\n",
            "4/4 [==============================] - 0s 41ms/step\n",
            ">406, 1/2, d=0.047, g=0.065\n",
            "4/4 [==============================] - 0s 41ms/step\n",
            ">406, 2/2, d=0.044, g=0.071\n",
            "4/4 [==============================] - 0s 41ms/step\n",
            ">407, 1/2, d=0.039, g=0.072\n",
            "4/4 [==============================] - 0s 41ms/step\n",
            ">407, 2/2, d=0.043, g=0.061\n",
            "4/4 [==============================] - 0s 41ms/step\n",
            ">408, 1/2, d=0.039, g=0.065\n",
            "4/4 [==============================] - 0s 41ms/step\n",
            ">408, 2/2, d=0.036, g=0.065\n",
            "4/4 [==============================] - 0s 41ms/step\n",
            ">409, 1/2, d=0.035, g=0.070\n",
            "4/4 [==============================] - 0s 41ms/step\n",
            ">409, 2/2, d=0.030, g=0.067\n",
            "4/4 [==============================] - 0s 41ms/step\n",
            ">410, 1/2, d=0.031, g=0.070\n",
            "16/16 [==============================] - 1s 43ms/step\n",
            ">Accuracy real: 100%, fake: 0%\n"
          ]
        },
        {
          "name": "stderr",
          "output_type": "stream",
          "text": [
            "WARNING:tensorflow:Compiled the loaded model, but the compiled metrics have yet to be built. `model.compile_metrics` will be empty until you train or evaluate the model.\n"
          ]
        },
        {
          "name": "stdout",
          "output_type": "stream",
          "text": [
            "4/4 [==============================] - 0s 59ms/step\n",
            ">410, 2/2, d=0.031, g=0.072\n",
            "16/16 [==============================] - 1s 43ms/step\n",
            ">Accuracy real: 100%, fake: 0%\n"
          ]
        },
        {
          "name": "stderr",
          "output_type": "stream",
          "text": [
            "WARNING:tensorflow:Compiled the loaded model, but the compiled metrics have yet to be built. `model.compile_metrics` will be empty until you train or evaluate the model.\n"
          ]
        },
        {
          "name": "stdout",
          "output_type": "stream",
          "text": [
            "4/4 [==============================] - 0s 57ms/step\n",
            ">411, 1/2, d=0.029, g=0.070\n",
            "4/4 [==============================] - 0s 41ms/step\n",
            ">411, 2/2, d=0.034, g=0.069\n",
            "4/4 [==============================] - 0s 41ms/step\n",
            ">412, 1/2, d=0.028, g=0.079\n",
            "4/4 [==============================] - 0s 41ms/step\n",
            ">412, 2/2, d=0.036, g=0.075\n",
            "4/4 [==============================] - 0s 41ms/step\n",
            ">413, 1/2, d=0.039, g=0.089\n",
            "4/4 [==============================] - 0s 41ms/step\n",
            ">413, 2/2, d=0.039, g=0.073\n",
            "4/4 [==============================] - 0s 41ms/step\n",
            ">414, 1/2, d=0.044, g=0.115\n",
            "4/4 [==============================] - 0s 41ms/step\n",
            ">414, 2/2, d=0.036, g=0.143\n",
            "4/4 [==============================] - 0s 41ms/step\n",
            ">415, 1/2, d=0.037, g=0.108\n",
            "4/4 [==============================] - 0s 41ms/step\n",
            ">415, 2/2, d=0.052, g=0.192\n",
            "4/4 [==============================] - 0s 41ms/step\n",
            ">416, 1/2, d=0.081, g=0.096\n",
            "4/4 [==============================] - 0s 41ms/step\n",
            ">416, 2/2, d=0.216, g=2.086\n",
            "4/4 [==============================] - 0s 41ms/step\n",
            ">417, 1/2, d=1.167, g=0.452\n",
            "4/4 [==============================] - 0s 41ms/step\n",
            ">417, 2/2, d=0.602, g=3.327\n",
            "4/4 [==============================] - 0s 41ms/step\n",
            ">418, 1/2, d=0.245, g=1.679\n",
            "4/4 [==============================] - 0s 41ms/step\n",
            ">418, 2/2, d=0.516, g=3.317\n",
            "4/4 [==============================] - 0s 42ms/step\n",
            ">419, 1/2, d=0.233, g=3.079\n",
            "4/4 [==============================] - 0s 41ms/step\n",
            ">419, 2/2, d=0.577, g=1.235\n",
            "4/4 [==============================] - 0s 42ms/step\n",
            ">420, 1/2, d=0.588, g=1.454\n",
            "16/16 [==============================] - 1s 43ms/step\n",
            ">Accuracy real: 8%, fake: 6%\n"
          ]
        },
        {
          "name": "stderr",
          "output_type": "stream",
          "text": [
            "WARNING:tensorflow:Compiled the loaded model, but the compiled metrics have yet to be built. `model.compile_metrics` will be empty until you train or evaluate the model.\n"
          ]
        },
        {
          "name": "stdout",
          "output_type": "stream",
          "text": [
            "4/4 [==============================] - 0s 59ms/step\n",
            ">420, 2/2, d=0.539, g=3.162\n",
            "16/16 [==============================] - 1s 43ms/step\n",
            ">Accuracy real: 0%, fake: 13%\n"
          ]
        },
        {
          "name": "stderr",
          "output_type": "stream",
          "text": [
            "WARNING:tensorflow:Compiled the loaded model, but the compiled metrics have yet to be built. `model.compile_metrics` will be empty until you train or evaluate the model.\n"
          ]
        },
        {
          "name": "stdout",
          "output_type": "stream",
          "text": [
            "4/4 [==============================] - 0s 60ms/step\n",
            ">421, 1/2, d=0.665, g=4.763\n",
            "4/4 [==============================] - 0s 41ms/step\n",
            ">421, 2/2, d=0.632, g=1.668\n",
            "4/4 [==============================] - 0s 41ms/step\n",
            ">422, 1/2, d=0.228, g=1.532\n",
            "4/4 [==============================] - 0s 41ms/step\n",
            ">422, 2/2, d=0.252, g=3.085\n",
            "4/4 [==============================] - 0s 41ms/step\n",
            ">423, 1/2, d=0.227, g=2.044\n",
            "4/4 [==============================] - 0s 40ms/step\n",
            ">423, 2/2, d=0.283, g=2.758\n",
            "4/4 [==============================] - 0s 41ms/step\n",
            ">424, 1/2, d=0.294, g=4.007\n",
            "4/4 [==============================] - 0s 41ms/step\n",
            ">424, 2/2, d=0.365, g=3.771\n",
            "4/4 [==============================] - 0s 41ms/step\n",
            ">425, 1/2, d=0.365, g=3.944\n",
            "4/4 [==============================] - 0s 41ms/step\n",
            ">425, 2/2, d=0.368, g=4.509\n",
            "4/4 [==============================] - 0s 41ms/step\n",
            ">426, 1/2, d=0.383, g=3.719\n",
            "4/4 [==============================] - 0s 42ms/step\n",
            ">426, 2/2, d=0.604, g=6.577\n",
            "4/4 [==============================] - 0s 41ms/step\n",
            ">427, 1/2, d=0.822, g=1.408\n",
            "4/4 [==============================] - 0s 41ms/step\n",
            ">427, 2/2, d=0.836, g=0.775\n",
            "4/4 [==============================] - 0s 41ms/step\n",
            ">428, 1/2, d=0.704, g=0.115\n",
            "4/4 [==============================] - 0s 42ms/step\n",
            ">428, 2/2, d=0.306, g=0.150\n",
            "4/4 [==============================] - 0s 41ms/step\n",
            ">429, 1/2, d=0.222, g=2.605\n",
            "4/4 [==============================] - 0s 42ms/step\n",
            ">429, 2/2, d=0.315, g=4.375\n",
            "4/4 [==============================] - 0s 42ms/step\n",
            ">430, 1/2, d=0.574, g=2.309\n",
            "16/16 [==============================] - 1s 43ms/step\n",
            ">Accuracy real: 0%, fake: 0%\n"
          ]
        },
        {
          "name": "stderr",
          "output_type": "stream",
          "text": [
            "WARNING:tensorflow:Compiled the loaded model, but the compiled metrics have yet to be built. `model.compile_metrics` will be empty until you train or evaluate the model.\n"
          ]
        },
        {
          "name": "stdout",
          "output_type": "stream",
          "text": [
            "4/4 [==============================] - 0s 62ms/step\n",
            ">430, 2/2, d=1.216, g=2.630\n",
            "16/16 [==============================] - 1s 43ms/step\n",
            ">Accuracy real: 0%, fake: 4%\n"
          ]
        },
        {
          "name": "stderr",
          "output_type": "stream",
          "text": [
            "WARNING:tensorflow:Compiled the loaded model, but the compiled metrics have yet to be built. `model.compile_metrics` will be empty until you train or evaluate the model.\n"
          ]
        },
        {
          "name": "stdout",
          "output_type": "stream",
          "text": [
            "4/4 [==============================] - 0s 58ms/step\n",
            ">431, 1/2, d=1.346, g=1.093\n",
            "4/4 [==============================] - 0s 41ms/step\n",
            ">431, 2/2, d=0.904, g=1.664\n",
            "4/4 [==============================] - 0s 41ms/step\n",
            ">432, 1/2, d=0.623, g=0.733\n",
            "4/4 [==============================] - 0s 41ms/step\n",
            ">432, 2/2, d=0.439, g=1.547\n",
            "4/4 [==============================] - 0s 41ms/step\n",
            ">433, 1/2, d=0.416, g=0.985\n",
            "4/4 [==============================] - 0s 41ms/step\n",
            ">433, 2/2, d=0.472, g=0.673\n",
            "4/4 [==============================] - 0s 41ms/step\n",
            ">434, 1/2, d=0.605, g=0.569\n",
            "4/4 [==============================] - 0s 41ms/step\n",
            ">434, 2/2, d=0.599, g=0.324\n",
            "4/4 [==============================] - 0s 41ms/step\n",
            ">435, 1/2, d=0.373, g=0.222\n",
            "4/4 [==============================] - 0s 41ms/step\n",
            ">435, 2/2, d=0.223, g=0.099\n",
            "4/4 [==============================] - 0s 41ms/step\n",
            ">436, 1/2, d=0.112, g=0.054\n",
            "4/4 [==============================] - 0s 41ms/step\n",
            ">436, 2/2, d=0.074, g=0.034\n",
            "4/4 [==============================] - 0s 41ms/step\n",
            ">437, 1/2, d=0.053, g=0.024\n",
            "4/4 [==============================] - 0s 41ms/step\n",
            ">437, 2/2, d=0.039, g=0.021\n",
            "4/4 [==============================] - 0s 41ms/step\n",
            ">438, 1/2, d=0.032, g=0.016\n",
            "4/4 [==============================] - 0s 41ms/step\n",
            ">438, 2/2, d=0.023, g=0.014\n",
            "4/4 [==============================] - 0s 41ms/step\n",
            ">439, 1/2, d=0.022, g=0.013\n",
            "4/4 [==============================] - 0s 41ms/step\n",
            ">439, 2/2, d=0.019, g=0.013\n",
            "4/4 [==============================] - 0s 42ms/step\n",
            ">440, 1/2, d=0.017, g=0.013\n",
            "16/16 [==============================] - 1s 43ms/step\n",
            ">Accuracy real: 100%, fake: 0%\n"
          ]
        },
        {
          "name": "stderr",
          "output_type": "stream",
          "text": [
            "WARNING:tensorflow:Compiled the loaded model, but the compiled metrics have yet to be built. `model.compile_metrics` will be empty until you train or evaluate the model.\n"
          ]
        },
        {
          "name": "stdout",
          "output_type": "stream",
          "text": [
            "4/4 [==============================] - 0s 61ms/step\n",
            ">440, 2/2, d=0.016, g=0.013\n",
            "16/16 [==============================] - 1s 43ms/step\n",
            ">Accuracy real: 100%, fake: 0%\n"
          ]
        },
        {
          "name": "stderr",
          "output_type": "stream",
          "text": [
            "WARNING:tensorflow:Compiled the loaded model, but the compiled metrics have yet to be built. `model.compile_metrics` will be empty until you train or evaluate the model.\n"
          ]
        },
        {
          "name": "stdout",
          "output_type": "stream",
          "text": [
            "4/4 [==============================] - 0s 62ms/step\n",
            ">441, 1/2, d=0.013, g=0.012\n",
            "4/4 [==============================] - 0s 40ms/step\n",
            ">441, 2/2, d=0.014, g=0.012\n",
            "4/4 [==============================] - 0s 41ms/step\n",
            ">442, 1/2, d=0.013, g=0.013\n",
            "4/4 [==============================] - 0s 41ms/step\n",
            ">442, 2/2, d=0.013, g=0.012\n",
            "4/4 [==============================] - 0s 41ms/step\n",
            ">443, 1/2, d=0.011, g=0.012\n",
            "4/4 [==============================] - 0s 41ms/step\n",
            ">443, 2/2, d=0.011, g=0.012\n",
            "4/4 [==============================] - 0s 41ms/step\n",
            ">444, 1/2, d=0.011, g=0.013\n",
            "4/4 [==============================] - 0s 41ms/step\n",
            ">444, 2/2, d=0.011, g=0.013\n",
            "4/4 [==============================] - 0s 41ms/step\n",
            ">445, 1/2, d=0.010, g=0.014\n",
            "4/4 [==============================] - 0s 41ms/step\n",
            ">445, 2/2, d=0.010, g=0.013\n",
            "4/4 [==============================] - 0s 41ms/step\n",
            ">446, 1/2, d=0.009, g=0.014\n",
            "4/4 [==============================] - 0s 41ms/step\n",
            ">446, 2/2, d=0.010, g=0.014\n",
            "4/4 [==============================] - 0s 41ms/step\n",
            ">447, 1/2, d=0.010, g=0.014\n",
            "4/4 [==============================] - 0s 42ms/step\n",
            ">447, 2/2, d=0.010, g=0.014\n",
            "4/4 [==============================] - 0s 41ms/step\n",
            ">448, 1/2, d=0.009, g=0.013\n",
            "4/4 [==============================] - 0s 41ms/step\n",
            ">448, 2/2, d=0.008, g=0.013\n",
            "4/4 [==============================] - 0s 42ms/step\n",
            ">449, 1/2, d=0.009, g=0.014\n",
            "4/4 [==============================] - 0s 41ms/step\n",
            ">449, 2/2, d=0.009, g=0.013\n",
            "4/4 [==============================] - 0s 42ms/step\n",
            ">450, 1/2, d=0.009, g=0.013\n",
            "16/16 [==============================] - 1s 43ms/step\n",
            ">Accuracy real: 100%, fake: 0%\n"
          ]
        },
        {
          "name": "stderr",
          "output_type": "stream",
          "text": [
            "WARNING:tensorflow:Compiled the loaded model, but the compiled metrics have yet to be built. `model.compile_metrics` will be empty until you train or evaluate the model.\n"
          ]
        },
        {
          "name": "stdout",
          "output_type": "stream",
          "text": [
            "4/4 [==============================] - 0s 62ms/step\n",
            ">450, 2/2, d=0.008, g=0.015\n",
            "16/16 [==============================] - 1s 43ms/step\n",
            ">Accuracy real: 100%, fake: 0%\n"
          ]
        },
        {
          "name": "stderr",
          "output_type": "stream",
          "text": [
            "WARNING:tensorflow:Compiled the loaded model, but the compiled metrics have yet to be built. `model.compile_metrics` will be empty until you train or evaluate the model.\n"
          ]
        },
        {
          "name": "stdout",
          "output_type": "stream",
          "text": [
            "4/4 [==============================] - 0s 62ms/step\n",
            ">451, 1/2, d=0.009, g=0.015\n",
            "4/4 [==============================] - 0s 41ms/step\n",
            ">451, 2/2, d=0.008, g=0.016\n",
            "4/4 [==============================] - 0s 41ms/step\n",
            ">452, 1/2, d=0.009, g=0.016\n",
            "4/4 [==============================] - 0s 41ms/step\n",
            ">452, 2/2, d=0.008, g=0.017\n",
            "4/4 [==============================] - 0s 41ms/step\n",
            ">453, 1/2, d=0.008, g=0.015\n",
            "4/4 [==============================] - 0s 41ms/step\n",
            ">453, 2/2, d=0.008, g=0.017\n",
            "4/4 [==============================] - 0s 41ms/step\n",
            ">454, 1/2, d=0.009, g=0.018\n",
            "4/4 [==============================] - 0s 41ms/step\n",
            ">454, 2/2, d=0.011, g=0.017\n",
            "4/4 [==============================] - 0s 41ms/step\n",
            ">455, 1/2, d=0.009, g=0.018\n",
            "4/4 [==============================] - 0s 41ms/step\n",
            ">455, 2/2, d=0.011, g=0.018\n",
            "4/4 [==============================] - 0s 41ms/step\n",
            ">456, 1/2, d=0.009, g=0.019\n",
            "4/4 [==============================] - 0s 41ms/step\n",
            ">456, 2/2, d=0.010, g=0.019\n",
            "4/4 [==============================] - 0s 41ms/step\n",
            ">457, 1/2, d=0.011, g=0.020\n",
            "4/4 [==============================] - 0s 41ms/step\n",
            ">457, 2/2, d=0.010, g=0.021\n",
            "4/4 [==============================] - 0s 41ms/step\n",
            ">458, 1/2, d=0.012, g=0.020\n",
            "4/4 [==============================] - 0s 41ms/step\n",
            ">458, 2/2, d=0.010, g=0.021\n",
            "4/4 [==============================] - 0s 41ms/step\n",
            ">459, 1/2, d=0.012, g=0.021\n",
            "4/4 [==============================] - 0s 41ms/step\n",
            ">459, 2/2, d=0.011, g=0.021\n",
            "4/4 [==============================] - 0s 41ms/step\n",
            ">460, 1/2, d=0.012, g=0.022\n",
            "16/16 [==============================] - 1s 43ms/step\n",
            ">Accuracy real: 100%, fake: 0%\n"
          ]
        },
        {
          "name": "stderr",
          "output_type": "stream",
          "text": [
            "WARNING:tensorflow:Compiled the loaded model, but the compiled metrics have yet to be built. `model.compile_metrics` will be empty until you train or evaluate the model.\n"
          ]
        },
        {
          "name": "stdout",
          "output_type": "stream",
          "text": [
            "4/4 [==============================] - 0s 61ms/step\n",
            ">460, 2/2, d=0.012, g=0.020\n",
            "16/16 [==============================] - 1s 43ms/step\n",
            ">Accuracy real: 100%, fake: 0%\n"
          ]
        },
        {
          "name": "stderr",
          "output_type": "stream",
          "text": [
            "WARNING:tensorflow:Compiled the loaded model, but the compiled metrics have yet to be built. `model.compile_metrics` will be empty until you train or evaluate the model.\n"
          ]
        },
        {
          "name": "stdout",
          "output_type": "stream",
          "text": [
            "4/4 [==============================] - 0s 62ms/step\n",
            ">461, 1/2, d=0.012, g=0.021\n",
            "4/4 [==============================] - 0s 41ms/step\n",
            ">461, 2/2, d=0.013, g=0.022\n",
            "4/4 [==============================] - 0s 40ms/step\n",
            ">462, 1/2, d=0.013, g=0.022\n",
            "4/4 [==============================] - 0s 41ms/step\n",
            ">462, 2/2, d=0.012, g=0.021\n",
            "4/4 [==============================] - 0s 41ms/step\n",
            ">463, 1/2, d=0.012, g=0.022\n",
            "4/4 [==============================] - 0s 41ms/step\n",
            ">463, 2/2, d=0.013, g=0.022\n",
            "4/4 [==============================] - 0s 41ms/step\n",
            ">464, 1/2, d=0.011, g=0.019\n",
            "4/4 [==============================] - 0s 41ms/step\n",
            ">464, 2/2, d=0.011, g=0.020\n",
            "4/4 [==============================] - 0s 41ms/step\n",
            ">465, 1/2, d=0.012, g=0.018\n",
            "4/4 [==============================] - 0s 41ms/step\n",
            ">465, 2/2, d=0.012, g=0.020\n",
            "4/4 [==============================] - 0s 42ms/step\n",
            ">466, 1/2, d=0.010, g=0.019\n",
            "4/4 [==============================] - 0s 41ms/step\n",
            ">466, 2/2, d=0.012, g=0.018\n",
            "4/4 [==============================] - 0s 41ms/step\n",
            ">467, 1/2, d=0.010, g=0.019\n",
            "4/4 [==============================] - 0s 41ms/step\n",
            ">467, 2/2, d=0.011, g=0.017\n",
            "4/4 [==============================] - 0s 42ms/step\n",
            ">468, 1/2, d=0.011, g=0.018\n",
            "4/4 [==============================] - 0s 42ms/step\n",
            ">468, 2/2, d=0.012, g=0.017\n",
            "4/4 [==============================] - 0s 41ms/step\n",
            ">469, 1/2, d=0.010, g=0.017\n",
            "4/4 [==============================] - 0s 42ms/step\n",
            ">469, 2/2, d=0.010, g=0.015\n",
            "4/4 [==============================] - 0s 42ms/step\n",
            ">470, 1/2, d=0.010, g=0.016\n",
            "16/16 [==============================] - 1s 44ms/step\n",
            ">Accuracy real: 100%, fake: 0%\n"
          ]
        },
        {
          "name": "stderr",
          "output_type": "stream",
          "text": [
            "WARNING:tensorflow:Compiled the loaded model, but the compiled metrics have yet to be built. `model.compile_metrics` will be empty until you train or evaluate the model.\n"
          ]
        },
        {
          "name": "stdout",
          "output_type": "stream",
          "text": [
            "4/4 [==============================] - 0s 62ms/step\n",
            ">470, 2/2, d=0.010, g=0.016\n",
            "16/16 [==============================] - 1s 43ms/step\n",
            ">Accuracy real: 100%, fake: 0%\n"
          ]
        },
        {
          "name": "stderr",
          "output_type": "stream",
          "text": [
            "WARNING:tensorflow:Compiled the loaded model, but the compiled metrics have yet to be built. `model.compile_metrics` will be empty until you train or evaluate the model.\n"
          ]
        },
        {
          "name": "stdout",
          "output_type": "stream",
          "text": [
            "4/4 [==============================] - 0s 62ms/step\n",
            ">471, 1/2, d=0.011, g=0.016\n",
            "4/4 [==============================] - 0s 41ms/step\n",
            ">471, 2/2, d=0.010, g=0.016\n",
            "4/4 [==============================] - 0s 41ms/step\n",
            ">472, 1/2, d=0.009, g=0.015\n",
            "4/4 [==============================] - 0s 41ms/step\n",
            ">472, 2/2, d=0.009, g=0.016\n",
            "4/4 [==============================] - 0s 41ms/step\n",
            ">473, 1/2, d=0.008, g=0.014\n",
            "4/4 [==============================] - 0s 41ms/step\n",
            ">473, 2/2, d=0.010, g=0.013\n",
            "4/4 [==============================] - 0s 41ms/step\n",
            ">474, 1/2, d=0.010, g=0.014\n",
            "4/4 [==============================] - 0s 41ms/step\n",
            ">474, 2/2, d=0.010, g=0.012\n",
            "4/4 [==============================] - 0s 41ms/step\n",
            ">475, 1/2, d=0.011, g=0.013\n",
            "4/4 [==============================] - 0s 41ms/step\n",
            ">475, 2/2, d=0.010, g=0.012\n",
            "4/4 [==============================] - 0s 41ms/step\n",
            ">476, 1/2, d=0.008, g=0.013\n",
            "4/4 [==============================] - 0s 41ms/step\n",
            ">476, 2/2, d=0.009, g=0.012\n",
            "4/4 [==============================] - 0s 41ms/step\n",
            ">477, 1/2, d=0.010, g=0.012\n",
            "4/4 [==============================] - 0s 41ms/step\n",
            ">477, 2/2, d=0.009, g=0.012\n",
            "4/4 [==============================] - 0s 41ms/step\n",
            ">478, 1/2, d=0.008, g=0.012\n",
            "4/4 [==============================] - 0s 41ms/step\n",
            ">478, 2/2, d=0.010, g=0.012\n",
            "4/4 [==============================] - 0s 41ms/step\n",
            ">479, 1/2, d=0.008, g=0.011\n",
            "4/4 [==============================] - 0s 41ms/step\n",
            ">479, 2/2, d=0.009, g=0.011\n",
            "4/4 [==============================] - 0s 41ms/step\n",
            ">480, 1/2, d=0.008, g=0.011\n",
            "16/16 [==============================] - 1s 43ms/step\n",
            ">Accuracy real: 100%, fake: 0%\n"
          ]
        },
        {
          "name": "stderr",
          "output_type": "stream",
          "text": [
            "WARNING:tensorflow:Compiled the loaded model, but the compiled metrics have yet to be built. `model.compile_metrics` will be empty until you train or evaluate the model.\n"
          ]
        },
        {
          "name": "stdout",
          "output_type": "stream",
          "text": [
            "4/4 [==============================] - 0s 62ms/step\n",
            ">480, 2/2, d=0.009, g=0.011\n",
            "16/16 [==============================] - 1s 43ms/step\n",
            ">Accuracy real: 100%, fake: 0%\n"
          ]
        },
        {
          "name": "stderr",
          "output_type": "stream",
          "text": [
            "WARNING:tensorflow:Compiled the loaded model, but the compiled metrics have yet to be built. `model.compile_metrics` will be empty until you train or evaluate the model.\n"
          ]
        },
        {
          "name": "stdout",
          "output_type": "stream",
          "text": [
            "4/4 [==============================] - 0s 60ms/step\n",
            ">481, 1/2, d=0.008, g=0.011\n",
            "4/4 [==============================] - 0s 41ms/step\n",
            ">481, 2/2, d=0.009, g=0.010\n",
            "4/4 [==============================] - 0s 41ms/step\n",
            ">482, 1/2, d=0.009, g=0.011\n",
            "4/4 [==============================] - 0s 41ms/step\n",
            ">482, 2/2, d=0.009, g=0.010\n",
            "4/4 [==============================] - 0s 41ms/step\n",
            ">483, 1/2, d=0.008, g=0.010\n",
            "4/4 [==============================] - 0s 41ms/step\n",
            ">483, 2/2, d=0.008, g=0.010\n",
            "4/4 [==============================] - 0s 41ms/step\n",
            ">484, 1/2, d=0.008, g=0.010\n",
            "4/4 [==============================] - 0s 41ms/step\n",
            ">484, 2/2, d=0.007, g=0.010\n",
            "4/4 [==============================] - 0s 41ms/step\n",
            ">485, 1/2, d=0.008, g=0.010\n",
            "4/4 [==============================] - 0s 41ms/step\n",
            ">485, 2/2, d=0.008, g=0.010\n",
            "4/4 [==============================] - 0s 41ms/step\n",
            ">486, 1/2, d=0.009, g=0.010\n",
            "4/4 [==============================] - 0s 41ms/step\n",
            ">486, 2/2, d=0.009, g=0.009\n",
            "4/4 [==============================] - 0s 41ms/step\n",
            ">487, 1/2, d=0.008, g=0.009\n",
            "4/4 [==============================] - 0s 41ms/step\n",
            ">487, 2/2, d=0.008, g=0.009\n",
            "4/4 [==============================] - 0s 41ms/step\n",
            ">488, 1/2, d=0.008, g=0.009\n",
            "4/4 [==============================] - 0s 41ms/step\n",
            ">488, 2/2, d=0.008, g=0.009\n",
            "4/4 [==============================] - 0s 41ms/step\n",
            ">489, 1/2, d=0.007, g=0.009\n",
            "4/4 [==============================] - 0s 41ms/step\n",
            ">489, 2/2, d=0.007, g=0.009\n",
            "4/4 [==============================] - 0s 39ms/step\n",
            ">490, 1/2, d=0.006, g=0.009\n",
            "16/16 [==============================] - 1s 43ms/step\n",
            ">Accuracy real: 100%, fake: 0%\n"
          ]
        },
        {
          "name": "stderr",
          "output_type": "stream",
          "text": [
            "WARNING:tensorflow:Compiled the loaded model, but the compiled metrics have yet to be built. `model.compile_metrics` will be empty until you train or evaluate the model.\n"
          ]
        },
        {
          "name": "stdout",
          "output_type": "stream",
          "text": [
            "4/4 [==============================] - 0s 57ms/step\n",
            ">490, 2/2, d=0.008, g=0.008\n",
            "16/16 [==============================] - 1s 42ms/step\n",
            ">Accuracy real: 100%, fake: 0%\n"
          ]
        },
        {
          "name": "stderr",
          "output_type": "stream",
          "text": [
            "WARNING:tensorflow:Compiled the loaded model, but the compiled metrics have yet to be built. `model.compile_metrics` will be empty until you train or evaluate the model.\n"
          ]
        },
        {
          "name": "stdout",
          "output_type": "stream",
          "text": [
            "4/4 [==============================] - 0s 57ms/step\n",
            ">491, 1/2, d=0.009, g=0.009\n",
            "4/4 [==============================] - 0s 41ms/step\n",
            ">491, 2/2, d=0.007, g=0.008\n",
            "4/4 [==============================] - 0s 41ms/step\n",
            ">492, 1/2, d=0.008, g=0.008\n",
            "4/4 [==============================] - 0s 41ms/step\n",
            ">492, 2/2, d=0.007, g=0.008\n",
            "4/4 [==============================] - 0s 41ms/step\n",
            ">493, 1/2, d=0.008, g=0.008\n",
            "4/4 [==============================] - 0s 41ms/step\n",
            ">493, 2/2, d=0.007, g=0.008\n",
            "4/4 [==============================] - 0s 41ms/step\n",
            ">494, 1/2, d=0.006, g=0.008\n",
            "4/4 [==============================] - 0s 41ms/step\n",
            ">494, 2/2, d=0.006, g=0.008\n",
            "4/4 [==============================] - 0s 41ms/step\n",
            ">495, 1/2, d=0.006, g=0.008\n",
            "4/4 [==============================] - 0s 41ms/step\n",
            ">495, 2/2, d=0.007, g=0.008\n",
            "4/4 [==============================] - 0s 41ms/step\n",
            ">496, 1/2, d=0.008, g=0.008\n",
            "4/4 [==============================] - 0s 41ms/step\n",
            ">496, 2/2, d=0.008, g=0.007\n",
            "4/4 [==============================] - 0s 41ms/step\n",
            ">497, 1/2, d=0.007, g=0.007\n",
            "4/4 [==============================] - 0s 41ms/step\n",
            ">497, 2/2, d=0.008, g=0.008\n",
            "4/4 [==============================] - 0s 42ms/step\n",
            ">498, 1/2, d=0.007, g=0.008\n",
            "4/4 [==============================] - 0s 41ms/step\n",
            ">498, 2/2, d=0.007, g=0.008\n",
            "4/4 [==============================] - 0s 42ms/step\n",
            ">499, 1/2, d=0.007, g=0.007\n",
            "4/4 [==============================] - 0s 42ms/step\n",
            ">499, 2/2, d=0.006, g=0.008\n",
            "4/4 [==============================] - 0s 42ms/step\n",
            ">500, 1/2, d=0.007, g=0.007\n",
            "16/16 [==============================] - 1s 44ms/step\n",
            ">Accuracy real: 100%, fake: 0%\n"
          ]
        },
        {
          "name": "stderr",
          "output_type": "stream",
          "text": [
            "WARNING:tensorflow:Compiled the loaded model, but the compiled metrics have yet to be built. `model.compile_metrics` will be empty until you train or evaluate the model.\n"
          ]
        },
        {
          "name": "stdout",
          "output_type": "stream",
          "text": [
            "4/4 [==============================] - 0s 59ms/step\n",
            ">500, 2/2, d=0.007, g=0.007\n",
            "16/16 [==============================] - 1s 43ms/step\n",
            ">Accuracy real: 100%, fake: 0%\n"
          ]
        },
        {
          "name": "stderr",
          "output_type": "stream",
          "text": [
            "WARNING:tensorflow:Compiled the loaded model, but the compiled metrics have yet to be built. `model.compile_metrics` will be empty until you train or evaluate the model.\n"
          ]
        }
      ],
      "source": [
        "\n",
        "latent_dim = 100\n",
        "\n",
        "d_model = define_discriminator()\n",
        "\n",
        "g_model = define_generator(latent_dim)\n",
        "\n",
        "gan_model = define_gan(g_model, d_model)\n",
        "\n",
        "\n",
        "dataset = load_real_samples()\n",
        "\n",
        "train(g_model, d_model, gan_model, dataset, latent_dim)"
      ]
    },
    {
      "cell_type": "markdown",
      "metadata": {
        "id": "wqn-hNQdSWx9"
      },
      "source": [
        "*GAN Images*"
      ]
    },
    {
      "cell_type": "code",
      "execution_count": null,
      "metadata": {
        "colab": {
          "base_uri": "https://localhost:8080/",
          "height": 469
        },
        "id": "Umr8jFInafTU",
        "outputId": "9a18a163-f05e-44b6-acab-5f853b8d01c0"
      },
      "outputs": [
        {
          "name": "stderr",
          "output_type": "stream",
          "text": [
            "WARNING:tensorflow:No training configuration found in the save file, so the model was *not* compiled. Compile it manually.\n"
          ]
        },
        {
          "name": "stdout",
          "output_type": "stream",
          "text": [
            "1/1 [==============================] - 0s 125ms/step\n"
          ]
        },
        {
          "data": {
            "image/png": "[encoded data removed]",
            "text/plain": [
              "<Figure size 640x480 with 1 Axes>"
            ]
          },
          "metadata": {},
          "output_type": "display_data"
        }
      ],
      "source": [
        "### Single Image ###\n",
        "from keras.models import load_model\n",
        "from numpy import asarray\n",
        "from matplotlib import pyplot\n",
        "\n",
        "model = load_model('/content/drive/My Drive/Data/Research/Process_2/output/generator_model_430.h5')\n",
        "\n",
        "vector = asarray([[0.75 for _ in range(100)]])\n",
        "\n",
        "X = model.predict(vector)\n",
        "\n",
        "X = (X + 1) / 2.0\n",
        "\n",
        "pyplot.imshow(X[0, :, :],cmap='gray')\n",
        "pyplot.show()"
      ]
    },
    {
      "cell_type": "code",
      "execution_count": null,
      "metadata": {
        "colab": {
          "base_uri": "https://localhost:8080/",
          "height": 324
        },
        "id": "2yTksxJrbNbl",
        "outputId": "2703bcae-dc19-4c0f-eea2-775cb4a4b57f"
      },
      "outputs": [
        {
          "data": {
            "image/png": "[encoded data removed]",
            "text/plain": [
              "<Figure size 640x480 with 10 Axes>"
            ]
          },
          "metadata": {},
          "output_type": "display_data"
        }
      ],
      "source": [
        "from matplotlib import pyplot\n",
        "\n",
        "### Mulitple Images ###\n",
        "\n",
        "for i in range(10):\n",
        "\n",
        " pyplot.subplot(2, 5, 1 + i)\n",
        " pyplot.axis('off')\n",
        " pyplot.imshow(X[i])\n",
        "\n",
        "pyplot.show()"
      ]
    }
  ],
  "metadata": {
    "accelerator": "GPU",
    "colab": {
      "gpuType": "T4",
      "machine_shape": "hm",
      "provenance": []
    },
    "kernelspec": {
      "display_name": "Python 3",
      "name": "python3"
    },
    "language_info": {
      "name": "python"
    }
  },
  "nbformat": 4,
  "nbformat_minor": 0
}
